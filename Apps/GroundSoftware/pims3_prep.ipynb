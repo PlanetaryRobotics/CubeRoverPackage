{
 "metadata": {
  "language_info": {
   "codemirror_mode": {
    "name": "ipython",
    "version": 3
   },
   "file_extension": ".py",
   "mimetype": "text/x-python",
   "name": "python",
   "nbconvert_exporter": "python",
   "pygments_lexer": "ipython3",
   "version": "3.8.5"
  },
  "orig_nbformat": 2,
  "kernelspec": {
   "name": "python385jvsc74a57bd08816a32dc6e032dd9374d27f75563e4313e5344332f9668033f6f3b340da094a",
   "display_name": "Python 3.8.5 64-bit ('py_irisbackendv3': pyenv)"
  }
 },
 "nbformat": 4,
 "nbformat_minor": 2,
 "cells": [
  {
   "cell_type": "code",
   "execution_count": 1,
   "metadata": {},
   "outputs": [
    {
     "output_type": "stream",
     "name": "stdout",
     "text": [
      "\u001b[31mFailed to connect to serial device. Is the device name right? Check the connection? Original error: [Errno 2] could not open port /dev/ttyUSB0: [Errno 2] No such file or directory: '/dev/ttyUSB0'\u001b[0m\n"
     ]
    }
   ],
   "source": [
    "from trans_tools import *\n",
    "from IrisBackendv3.codec.payload import CommandPayload\n",
    "from IrisBackendv3.codec.packet import IrisCommonPacket\n",
    "from IrisBackendv3.codec.metadata import DataPathway, DataSource\n",
    "from IrisBackendv3.codec.magic import Magic\n",
    "from IrisBackendv3.utils.basic import bytearray_to_spaced_hex as hexstr\n",
    "connect_serial(device = '/dev/ttyUSB0')\n"
   ]
  },
  {
   "cell_type": "code",
   "execution_count": 2,
   "metadata": {},
   "outputs": [],
   "source": [
    "settings['SAVE_FILE_PREFIX'] = 'iris_psu_log' # this the prefix on all log files. make it something unique.\n",
    "load_cache()"
   ]
  },
  {
   "cell_type": "code",
   "execution_count": 3,
   "metadata": {},
   "outputs": [
    {
     "output_type": "stream",
     "name": "stdout",
     "text": [
      "\u001b[1m\u001b[40m\u001b[34m\n\t0.\t'WatchDogInterface_ResetSpecific', args: [reset_value: enum/*int32*/]\u001b[0m\n\u001b[36m\n\t\t\tAvailable values for `reset_value`:\u001b[0m\n\u001b[35m\n\t\t\t\t'NO_RESET' or 0 or 0x0\u001b[0m\n\u001b[35m\n\t\t\t\t'RESET_HERCULES' or 1 or 0x1\u001b[0m\n\u001b[35m\n\t\t\t\t'HERCULES_POWER_ON' or 2 or 0x2\u001b[0m\n\u001b[35m\n\t\t\t\t'HERCULES_POWER_OFF' or 3 or 0x3\u001b[0m\n\u001b[35m\n\t\t\t\t'RESET_RADIO' or 4 or 0x4\u001b[0m\n\u001b[35m\n\t\t\t\t'RADIO_POWER_ON' or 5 or 0x5\u001b[0m\n\u001b[35m\n\t\t\t\t'RADIO_POWER_OFF' or 6 or 0x6\u001b[0m\n\u001b[35m\n\t\t\t\t'RESET_FPGA' or 7 or 0x7\u001b[0m\n\u001b[35m\n\t\t\t\t'FPGA_POWER_ON' or 8 or 0x8\u001b[0m\n\u001b[35m\n\t\t\t\t'FPGA_POWER_OFF' or 9 or 0x9\u001b[0m\n\u001b[35m\n\t\t\t\t'RESET_MOTOR_1' or 10 or 0xa\u001b[0m\n\u001b[35m\n\t\t\t\t'RESET_MOTOR_2' or 11 or 0xb\u001b[0m\n\u001b[35m\n\t\t\t\t'RESET_MOTOR_3' or 12 or 0xc\u001b[0m\n\u001b[35m\n\t\t\t\t'RESET_MOTOR_4' or 13 or 0xd\u001b[0m\n\u001b[35m\n\t\t\t\t'RESET_ALL_MOTORS' or 14 or 0xe\u001b[0m\n\u001b[35m\n\t\t\t\t'ALL_MOTORS_ON' or 15 or 0xf\u001b[0m\n\u001b[35m\n\t\t\t\t'ALL_MOTORS_OFF' or 16 or 0x10\u001b[0m\n\u001b[35m\n\t\t\t\t'RESET_EN_3_3' or 17 or 0x11\u001b[0m\n\u001b[35m\n\t\t\t\t'EN_3_3_POWER_ON' or 18 or 0x12\u001b[0m\n\u001b[35m\n\t\t\t\t'EN_3_3_POWER_OFF' or 19 or 0x13\u001b[0m\n\u001b[35m\n\t\t\t\t'RESET_24_EN' or 20 or 0x14\u001b[0m\n\u001b[35m\n\t\t\t\t'EN_24_ON' or 21 or 0x15\u001b[0m\n\u001b[35m\n\t\t\t\t'EN_24_OFF' or 22 or 0x16\u001b[0m\n\u001b[35m\n\t\t\t\t'HDRM_OFF' or 24 or 0x18\u001b[0m\n\u001b[35m\n\t\t\t\t'FPGA_CAM_0' or 25 or 0x19\u001b[0m\n\u001b[35m\n\t\t\t\t'FPGA_CAM_1' or 26 or 0x1a\u001b[0m\n\u001b[35m\n\t\t\t\t'BATTERY_START_CHARGE' or 27 or 0x1b\u001b[0m\n\u001b[35m\n\t\t\t\t'BATTERY_STOP_CHARGE' or 28 or 0x1c\u001b[0m\n\u001b[35m\n\t\t\t\t'ENABLE_RS_422_UART' or 29 or 0x1d\u001b[0m\n\u001b[35m\n\t\t\t\t'DISABLE_RS_422_UART' or 30 or 0x1e\u001b[0m\n\u001b[35m\n\t\t\t\t'ENABLE_HEATER_CONTROL' or 31 or 0x1f\u001b[0m\n\u001b[35m\n\t\t\t\t'DISABLE_HEATER_CONTROL' or 32 or 0x20\u001b[0m\n\u001b[1m\u001b[40m\u001b[34m\n\t1.\t'WatchDogInterface_PrepareForDeployment', args: [confirm: enum/*int32*/]\u001b[0m\n\u001b[36m\n\t\t\tAvailable values for `confirm`:\u001b[0m\n\u001b[35m\n\t\t\t\t'YES' or 96 or 0x60\u001b[0m\n\u001b[1m\u001b[40m\u001b[34m\n\t2.\t'WatchDogInterface_DisengageFromLander', args: [confirm: enum/*int32*/]\u001b[0m\n\u001b[36m\n\t\t\tAvailable values for `confirm`:\u001b[0m\n\u001b[35m\n\t\t\t\t'YES' or 96 or 0x60\u001b[0m\n\u001b[1m\u001b[40m\u001b[34m\n\t3.\t'WatchDogInterface_SwitchConnectionMode'\u001b[0m\n\u001b[1m\u001b[40m\u001b[34m\n\t4.\t'WatchDogInterface_EngageFromLander'\u001b[0m\n\u001b[1m\u001b[40m\u001b[34m\n\t5.\t'WatchDogInterface_SetKpSpecific', args: [value: uint16]\u001b[0m\n\u001b[1m\u001b[40m\u001b[34m\n\t6.\t'WatchDogInterface_SetHeaterDutyCycleMax'\u001b[0m\n\u001b[1m\u001b[40m\u001b[34m\n\t7.\t'WatchDogInterface_SetHeaterDutyCyclePeriod', args: [period: uint16]\u001b[0m\n\u001b[1m\u001b[40m\u001b[34m\n\t8.\t'WatchDogInterface_SetHeaterWindow', args: [adc_half_width: uint16]\u001b[0m\n\u001b[1m\u001b[40m\u001b[34m\n\t9.\t'WatchDogInterface_SetHeaterSetpoint', args: [adc_setpoint: uint16]\u001b[0m\n\u001b[1m\u001b[40m\u001b[34m\n\t10.\t'WatchDogInterface_SwitchToSleepMode', args: [confirm: enum/*int32*/]\u001b[0m\n\u001b[36m\n\t\t\tAvailable values for `confirm`:\u001b[0m\n\u001b[35m\n\t\t\t\t'YES' or 119 or 0x77\u001b[0m\n\u001b[1m\u001b[40m\u001b[34m\n\t11.\t'WatchDogInterface_SwitchToKeepAliveMode', args: [confirm: enum/*int32*/]\u001b[0m\n\u001b[36m\n\t\t\tAvailable values for `confirm`:\u001b[0m\n\u001b[35m\n\t\t\t\t'YES' or 119 or 0x77\u001b[0m\n\u001b[1m\u001b[40m\u001b[34m\n\t12.\t'WatchDogInterface_SwitchToServiceMode', args: [confirm: enum/*int32*/]\u001b[0m\n\u001b[36m\n\t\t\tAvailable values for `confirm`:\u001b[0m\n\u001b[35m\n\t\t\t\t'YES' or 119 or 0x77\u001b[0m\n\u001b[1m\u001b[40m\u001b[31m\n\t0.\tChannel 'AdcTempRaw': uint16\u001b[0m\n\u001b[1m\u001b[40m\u001b[31m\n\t1.\tChannel 'AdcTempKelvin': double\u001b[0m\n\u001b[1m\u001b[40m\u001b[31m\n\t2.\tChannel 'ChargeRaw': uint16\u001b[0m\n\u001b[1m\u001b[40m\u001b[31m\n\t3.\tChannel 'ChargeMah': double\u001b[0m\n\u001b[1m\u001b[40m\u001b[31m\n\t4.\tChannel 'VoltageRaw': uint16\u001b[0m\n\u001b[1m\u001b[40m\u001b[31m\n\t5.\tChannel 'Voltage': double\u001b[0m\n\u001b[1m\u001b[40m\u001b[31m\n\t6.\tChannel 'CurrentRaw': uint16\u001b[0m\n\u001b[1m\u001b[40m\u001b[31m\n\t7.\tChannel 'CurrentAmps': double\u001b[0m\n\u001b[1m\u001b[40m\u001b[31m\n\t8.\tChannel 'FuelTempRaw': uint16\u001b[0m\n\u001b[1m\u001b[40m\u001b[31m\n\t9.\tChannel 'FuelTempKelvin': double\u001b[0m\n\u001b[1m\u001b[40m\u001b[31m\n\t10.\tChannel 'KpHeater': uint16\u001b[0m\n\u001b[1m\u001b[40m\u001b[31m\n\t11.\tChannel 'HeaterSetpoint': uint16\u001b[0m\n\u001b[1m\u001b[40m\u001b[31m\n\t12.\tChannel 'HeaterSetpointKelvin': uint16\u001b[0m\n\u001b[1m\u001b[40m\u001b[31m\n\t13.\tChannel 'HeaterWindow': uint16\u001b[0m\n\u001b[1m\u001b[40m\u001b[31m\n\t14.\tChannel 'HeaterWindowKelvin': uint16\u001b[0m\n\u001b[1m\u001b[40m\u001b[31m\n\t15.\tChannel 'HeaterPwmLimit': uint16\u001b[0m\n\u001b[1m\u001b[40m\u001b[31m\n\t16.\tChannel 'WatchdogMode': enum/*int32*/\u001b[0m\n\u001b[1m\u001b[40m\u001b[31m\n\t17.\tChannel 'HeaterStatus': uint8\u001b[0m\n\u001b[1m\u001b[40m\u001b[31m\n\t18.\tChannel 'HeatingControlEnabled': uint8\u001b[0m\n\u001b[1m\u001b[40m\u001b[31m\n\t19.\tChannel 'HeaterPwmDutyCycle': uint16\u001b[0m\n"
     ]
    }
   ],
   "source": [
    "list_commands()\n",
    "list_channels()"
   ]
  },
  {
   "cell_type": "code",
   "execution_count": 4,
   "metadata": {},
   "outputs": [
    {
     "output_type": "stream",
     "name": "stdout",
     "text": [
      "01 0a 00 dc 55 da ba 00 00 10 1f 00 00 00\n"
     ]
    }
   ],
   "source": [
    "pathway = DataPathway.WIRELESS\n",
    "source = DataSource.GENERATED\n",
    "\n",
    "magic = Magic.COMMAND\n",
    "command_name = 'WatchDogInterface_ResetSpecific'\n",
    "kwargs = dict(reset_value='ENABLE_HEATER_CONTROL')\n",
    "\n",
    "module, command = standards.global_command_lookup(command_name)\n",
    "payloads = PayloadCollection(\n",
    "    CommandPayload=[\n",
    "        CommandPayload(\n",
    "            pathway=pathway,\n",
    "            source=source,\n",
    "            magic=magic,\n",
    "            module_id=module.ID,\n",
    "            command_id=command.ID,\n",
    "            args=kwargs\n",
    "        )\n",
    "    ],\n",
    "    TelemetryPayload=[],\n",
    "    EventPayload=[],\n",
    "    FileBlockPayload=[]\n",
    ")\n",
    "packet = IrisCommonPacket(\n",
    "    seq_num = 0x01,\n",
    "    payloads = payloads,\n",
    "    pathway = pathway,\n",
    "    source = source\n",
    ").encode()\n",
    "print(hexstr(packet))\n",
    "send_wifi(packet, ip=\"192.168.1.2\", port=8080)"
   ]
  }
 ]
}