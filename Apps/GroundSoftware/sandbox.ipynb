{
 "metadata": {
  "language_info": {
   "codemirror_mode": {
    "name": "ipython",
    "version": 3
   },
   "file_extension": ".py",
   "mimetype": "text/x-python",
   "name": "python",
   "nbconvert_exporter": "python",
   "pygments_lexer": "ipython3",
   "version": "3.8.5"
  },
  "orig_nbformat": 2,
  "kernelspec": {
   "name": "python385jvsc74a57bd08816a32dc6e032dd9374d27f75563e4313e5344332f9668033f6f3b340da094a",
   "display_name": "Python 3.8.5 64-bit ('py_irisbackendv3': pyenv)"
  },
  "metadata": {
   "interpreter": {
    "hash": "8816a32dc6e032dd9374d27f75563e4313e5344332f9668033f6f3b340da094a"
   }
  }
 },
 "nbformat": 4,
 "nbformat_minor": 2,
 "cells": [
  {
   "source": [
    "## Settings"
   ],
   "cell_type": "markdown",
   "metadata": {}
  },
  {
   "cell_type": "code",
   "execution_count": 1,
   "metadata": {},
   "outputs": [],
   "source": [
    "\n",
    "import scapy.all as scp\n",
    "import struct\n",
    "import numpy as np\n",
    "import matplotlib.pyplot as plt\n",
    "\n",
    "from typing import DefaultDict\n",
    "\n",
    "from IrisBackendv3.data_standards import DataStandards\n",
    "from IrisBackendv3.data_standards.prebuilt import add_to_standards, watchdog_heartbeat_tvac\n",
    "from IrisBackendv3.data_standards.logging import logger as DsLogger\n",
    "\n",
    "from IrisBackendv3.codec.magic import Magic, MAGIC_SIZE\n",
    "from IrisBackendv3.codec.settings import set_codec_standards\n",
    "\n",
    "from IrisBackendv3.utils.basic import print_bytearray_hex as printraw"
   ]
  },
  {
   "cell_type": "code",
   "execution_count": 2,
   "metadata": {},
   "outputs": [
    {
     "output_type": "error",
     "ename": "AttributeError",
     "evalue": "'Module' object has no attribute 'channels'",
     "traceback": [
      "\u001b[0;31m---------------------------------------------------------------------------\u001b[0m",
      "\u001b[0;31mAttributeError\u001b[0m                            Traceback (most recent call last)",
      "\u001b[0;32m<ipython-input-2-75829b5e625d>\u001b[0m in \u001b[0;36m<module>\u001b[0;34m\u001b[0m\n\u001b[1;32m      3\u001b[0m \u001b[0madd_to_standards\u001b[0m\u001b[0;34m(\u001b[0m\u001b[0mstandards\u001b[0m\u001b[0;34m,\u001b[0m \u001b[0mwatchdog_heartbeat_tvac\u001b[0m\u001b[0;34m)\u001b[0m\u001b[0;34m\u001b[0m\u001b[0;34m\u001b[0m\u001b[0m\n\u001b[1;32m      4\u001b[0m \u001b[0;31m# standards.print_overview()\u001b[0m\u001b[0;34m\u001b[0m\u001b[0;34m\u001b[0m\u001b[0;34m\u001b[0m\u001b[0m\n\u001b[0;32m----> 5\u001b[0;31m \u001b[0mlen\u001b[0m\u001b[0;34m(\u001b[0m\u001b[0mwatchdog_heartbeat_tvac\u001b[0m\u001b[0;34m.\u001b[0m\u001b[0mchannels\u001b[0m\u001b[0;34m)\u001b[0m\u001b[0;34m\u001b[0m\u001b[0;34m\u001b[0m\u001b[0m\n\u001b[0m",
      "\u001b[0;31mAttributeError\u001b[0m: 'Module' object has no attribute 'channels'"
     ]
    }
   ],
   "source": [
    "DsLogger.setLevel('CRITICAL')\n",
    "standards = DataStandards.build_standards()\n",
    "add_to_standards(standards, watchdog_heartbeat_tvac)\n",
    "standards.print_overview()"
   ]
  },
  {
   "cell_type": "code",
   "execution_count": 3,
   "metadata": {},
   "outputs": [
    {
     "output_type": "stream",
     "name": "stdout",
     "text": [
      "01 09 00 00 55 da ba 00 01 11 01 05 00\n0109000055daba000111010500\n"
     ]
    }
   ],
   "source": [
    "from IrisBackendv3.codec.fsw_data_codec import encode\n",
    "bo = '<'\n",
    "seq_num = 0x00\n",
    "def pack(name_m: str, name_c: str, data: bytes) -> bytes:\n",
    "    global seq_num\n",
    "    module = standards.modules[name_m]\n",
    "    cmd = module.commands[name_m+'_'+name_c]\n",
    "\n",
    "    magic = Magic.COMMAND\n",
    "    magic_bytes = magic.encode(byte_order=bo)\n",
    "    opcode = struct.pack(bo+'H', module.ID | cmd.ID)\n",
    "\n",
    "    seq_num = seq_num + 1\n",
    "    vlp_len = MAGIC_SIZE + 2 + len(data)\n",
    "    chk = 0x00\n",
    "    CPH = struct.pack(bo+'B H B', seq_num, vlp_len, chk)\n",
    "\n",
    "    out = CPH + magic_bytes + opcode + data\n",
    "    return out\n",
    "    \n",
    "data = struct.pack(bo+'B H', 0x01, 0x0005) # 77 for modes, 60 for prep/deploy\n",
    "packet = pack('Camera', 'TakeImage', data) \n",
    "printraw(packet)\n",
    "print(packet.hex())"
   ]
  },
  {
   "cell_type": "code",
   "execution_count": 4,
   "metadata": {},
   "outputs": [
    {
     "output_type": "execute_result",
     "data": {
      "text/plain": [
       "[256,\n",
       " 512,\n",
       " 768,\n",
       " 1024,\n",
       " 1280,\n",
       " 1536,\n",
       " 1792,\n",
       " 2048,\n",
       " 2304,\n",
       " 2560,\n",
       " 2816,\n",
       " 3328,\n",
       " 3584,\n",
       " 3840,\n",
       " 4096,\n",
       " 4352,\n",
       " 65280]"
      ]
     },
     "metadata": {},
     "execution_count": 4
    }
   ],
   "source": [
    "standards.modules['WatchDogInterface'].commands.vals\n",
    "sorted([m.ID for m in standards.modules.vals])"
   ]
  },
  {
   "cell_type": "code",
   "execution_count": 5,
   "metadata": {},
   "outputs": [
    {
     "output_type": "stream",
     "name": "stdout",
     "text": [
      "45 00 00 28 00 01 00 00 40 11 5e 26 de ad be ef 7f 00 00 01 00 35 1f 90 00 14 11 86 00 08 00 00 ee ff 00 c0 da 10 e8 03\n45 00 00 28 00 01 00 00 40 11 5e 26 de ad be ef 7f 00 00 01 00 35 1f 90 00 14 11 86 00 08 00 00 ee ff 00 c0 da 10 e8 03\n"
     ]
    },
    {
     "output_type": "execute_result",
     "data": {
      "text/plain": [
       "40"
      ]
     },
     "metadata": {},
     "execution_count": 5
    }
   ],
   "source": [
    "from IrisBackendv3.codec.payload import Payload, CommandPayload, WatchdogCommandPayload\n",
    "from IrisBackendv3.codec.metadata import DataPathway, DataSource\n",
    "from IrisBackendv3.codec.magic import Magic\n",
    "from IrisBackendv3.codec.settings import ENDIANNESS_CODE, set_codec_standards\n",
    "\n",
    "import struct\n",
    "\n",
    "set_codec_standards(standards)\n",
    "\n",
    "def pack_watchdog(command_name: str, **kwargs) -> bytes:\n",
    "    module, command = standards.global_command_lookup(command_name)\n",
    "    payload = WatchdogCommandPayload(\n",
    "        pathway = DataPathway.WIRED,\n",
    "        source = DataSource.GENERATED,\n",
    "        magic = Magic.WATCHDOG_COMMAND,\n",
    "        module_id = module.ID,\n",
    "        command_id = command.ID,\n",
    "        args = kwargs\n",
    "    )\n",
    "    return payload.encode()\n",
    "packet = Magic.WATCHDOG_COMMAND.encode() + pack_watchdog('WatchDogInterface_SetVSetpoint', setpoint=1000) # camera_num=0x01, callback_id = 0x05)\n",
    "\n",
    "vlp_len = len(packet)\n",
    "checksum = 0 # ignore for now TODO: impl. me\n",
    "seq_num = 0 # watchdog doesn't care\n",
    "CPH = struct.pack(ENDIANNESS_CODE + 'B H B', seq_num, vlp_len, checksum)\n",
    "packet = CPH + packet\n",
    "\n",
    "import scapy.all as scp\n",
    "full_packet = scp.IP(dst='127.0.0.1', src='222.173.190.239')/scp.UDP(dport=8080)/scp.Raw(load=packet)\n",
    "printraw(scp.raw(scp.IP(scp.raw(full_packet))))\n",
    "printraw(scp.raw(full_packet))\n",
    "scp.raw(full_packet)\n",
    "len(full_packet)\n"
   ]
  },
  {
   "cell_type": "code",
   "execution_count": 81,
   "metadata": {},
   "outputs": [
    {
     "output_type": "stream",
     "name": "stdout",
     "text": [
      "(Apple[5] -> !None, Dead[48879] -> !None)\n--pickle--\nDummy Reduce\nEncoding\nGetting State\nDummy Reduce\nEncoding\nGetting State\n--unpickle--\nDecoding\nSetting State\nDecoding\nSetting State\n(Apple[5] -> !b'\\x00\\x00\\x00\\x05', Dead[48879] -> !b'\\x00\\x00\\xbe\\xef')\n(Apple[5] -> !b'\\x00\\x00\\x00\\x05', Dead[48879] -> !b'\\x00\\x00\\xbe\\xef')\n(True, True)\n"
     ]
    },
    {
     "output_type": "execute_result",
     "data": {
      "text/plain": [
       "['other_thing', '_data']"
      ]
     },
     "metadata": {},
     "execution_count": 81
    }
   ],
   "source": [
    "from __future__ import annotations\n",
    "from typing import Optional, Dict, List\n",
    "import struct\n",
    "import pickle\n",
    "from abc import abstractmethod\n",
    "from enum import Enum\n",
    "\n",
    "class Dummy:\n",
    "    __slots__: List[str] = [\n",
    "        '_raw',\n",
    "        '_endianness_code'\n",
    "    ]\n",
    "\n",
    "    class FileTypeMagic(Enum):\n",
    "        \"\"\"\n",
    "        Enumeration of all file types which could be downlinked.\n",
    "\n",
    "        As usual, for backwards compatibility and data preservation, *never* change \n",
    "        any of the enum values or delete entries, just deprecate old ones.\n",
    "        \"\"\"\n",
    "        IMAGE = 0x01\n",
    "        UWB = 0x0F\n",
    "\n",
    "    FTM: FileTypeMagic = FileTypeMagic.UWB\n",
    "\n",
    "    _raw: Optional[bytes]\n",
    "    _endianness_code: str\n",
    "\n",
    "    def __init__(self,\n",
    "        raw: Optional[bytes] = None,\n",
    "        endianness_code = '!'\n",
    "    ) -> None:\n",
    "        self._raw = raw\n",
    "        self._endianness_code = endianness_code\n",
    "\n",
    "    @abstractmethod\n",
    "    def encode(self) -> bytes:\n",
    "        raise NotImplementedError()\n",
    "\n",
    "    @classmethod\n",
    "    @abstractmethod\n",
    "    def decode(cls, raw: bytes, endianness_code:str) -> Dummy:\n",
    "        raise NotImplementedError()\n",
    "\n",
    "    def __reduce__(self) -> Tuple[Callable, Tuple[bytes, str], Optional[str]]:\n",
    "        print(\"Dummy Reduce\")\n",
    "\n",
    "        if self._raw is None:\n",
    "            self._raw = self.encode()\n",
    "\n",
    "        if hasattr(self, '__getstate__'):\n",
    "            state = self.__getattribute__('__getstate__')()\n",
    "        else:\n",
    "            state = None\n",
    "\n",
    "        # \"Callable object\" returned will be the decoding function:\n",
    "        # If a subclassed object is reduced, it will call that subclass' `decode`\n",
    "        # function (assuming it's been implemented).\n",
    "        return (self.__class__.decode, (self._raw, self._endianness_code), state)\n",
    "\n",
    "class DummerInterface(Dummy):\n",
    "    __slots__: List[str] = [\n",
    "        'other_thing',\n",
    "        '_data'\n",
    "    ]\n",
    "\n",
    "    other_thing: str\n",
    "    _data: int\n",
    "\n",
    "class DummyThicc(DummerInterface):\n",
    "    __slots__: List[str] = []\n",
    "\n",
    "    # FTM2: DummyThicc.FileTypeMagic = DummyThicc.FileTypeMagic.IMAGE\n",
    "\n",
    "    def __init__(self,\n",
    "        data: int,\n",
    "        other_thing: str = \"\",\n",
    "        raw: Optional[bytes] = None,\n",
    "        endianness_code = '!'\n",
    "    ) -> None:\n",
    "        self.other_thing = other_thing\n",
    "        self._data = data\n",
    "        super().__init__(raw, endianness_code)\n",
    "\n",
    "    def encode(self) -> bytes:\n",
    "        print(\"Encoding\")\n",
    "        return struct.pack(self._endianness_code+'L', self._data)\n",
    "\n",
    "    @classmethod\n",
    "    def decode(cls, raw: bytes, endianness_code:str) -> Dummy:\n",
    "        print(\"Decoding\")\n",
    "        return cls(\n",
    "            data = struct.unpack(endianness_code+'L', raw)[0],\n",
    "            raw = raw,\n",
    "            endianness_code = endianness_code\n",
    "        )\n",
    "\n",
    "    def __repr__(self) -> str:\n",
    "        return f\"{self.other_thing}[{self._data}] -> {self._endianness_code}{self._raw}\"\n",
    "\n",
    "    def __eq__(self, other) -> bool:\n",
    "        return self.other_thing == other.other_thing and self._data == other._data\n",
    "\n",
    "    def __getstate__(self) -> str:\n",
    "        print(\"Getting State\")\n",
    "        return self.other_thing\n",
    "\n",
    "    def __setstate__(self, state: str) -> None:\n",
    "        print(\"Setting State\")\n",
    "        self.other_thing = state\n",
    "\n",
    "\n",
    "A = DummyThicc(other_thing='Apple', data=5)\n",
    "B = DummyThicc(other_thing='Dead', data=0xBEEF)\n",
    "print((A, B))\n",
    "\n",
    "print('--pickle--')\n",
    "pA = pickle.dumps(A)\n",
    "pB = pickle.dumps(B)\n",
    "print('--unpickle--')\n",
    "upA = pickle.loads(pA)\n",
    "upB = pickle.loads(pB)\n",
    "\n",
    "print((A, B))\n",
    "print((upA, upB))\n",
    "print((upA==A, upB==B))\n",
    "\n",
    "from typing import NamedTuple\n",
    "\n",
    "class X(NamedTuple):\n",
    "    a: int\n",
    "    b: str\n",
    "\n",
    "x = X(\n",
    "    a = 0,\n",
    "    b = '5'\n",
    ")\n",
    "getattr(x, 'b')\n",
    "# Dummy.FTM == DummyThicc.FileTypeMagic.UWB, DummyThicc.FTM2\n",
    "DummerInterface.__slots__\n"
   ]
  },
  {
   "cell_type": "code",
   "execution_count": 82,
   "metadata": {},
   "outputs": [],
   "source": [
    "# Data Transport:\n",
    "file = './test-data/Iris_FSWv1.0.0_210409_Telemetry.pcapng' # PCAP logs\n",
    "protocol = scp.UDP # Protocol FSW is using to send data\n",
    "port = 8080 # Port on the spacecraft FSW is sending data to\n",
    "\n",
    "# Data Formatting Settings:\n",
    "packetgap = 0 # number of packets to ignore at beginning of pcap\n",
    "deadspace = 0 # number of bytes of deadspace at the beginning of the\n",
    "endianness_code = \"<\" # < = little, > = big, ! = network\n",
    "\n",
    "# Image Formatting Settings:\n",
    "image_settings = {\n",
    "    \"width\": 2592,\n",
    "    \"height\": 1944\n",
    "}"
   ]
  },
  {
   "source": [
    "## Decode First Packet\n",
    "### Grab Packet"
   ],
   "cell_type": "markdown",
   "metadata": {}
  },
  {
   "cell_type": "code",
   "execution_count": 83,
   "metadata": {},
   "outputs": [],
   "source": [
    "pcap = scp.rdpcap(file)"
   ]
  },
  {
   "cell_type": "code",
   "execution_count": 84,
   "metadata": {},
   "outputs": [],
   "source": [
    "packets = list(filter(lambda x: x.dport == port, pcap[protocol][packetgap:]))\n",
    "i = 0"
   ]
  },
  {
   "cell_type": "code",
   "execution_count": 85,
   "metadata": {},
   "outputs": [],
   "source": [
    "packet = packets[i]"
   ]
  },
  {
   "cell_type": "code",
   "execution_count": 86,
   "metadata": {},
   "outputs": [
    {
     "output_type": "stream",
     "name": "stdout",
     "text": [
      "00 cc 03 90 ff 10 00 c0 00 0f 00 00 00 00 04 00 ff 10 00 c0 01 0f 00 00 00 00 fd ff ff 10 00 c0 02 0f 00 00 00 00 9f 00 ff 10 00 c0 03 0f 00 00 00 00 43 00 ff 10 00 c0 04 0f 00 00 00 00 2e 00 ff 10 00 c0 05 0f 00 00 00 00 d3 ff ff 10 00 c0 00 05 00 00 00 00 00 00 00 00 ff 10 00 c0 00 04 02 00 00 00 d0 07 00 00 ff 10 00 c0 00 03 23 00 00 00 b8 88 00 00 ff 10 00 c0 00 0f f2 00 00 00 09 00 ff 10 00 c0 01 0f f2 00 00 00 fd ff ff 10 00 c0 02 0f f2 00 00 00 a0 00 ff 10 00 c0 03 0f f2 00 00 00 3b 00 ff 10 00 c0 04 0f f2 00 00 00 1d 00 ff 10 00 c0 05 0f f2 00 00 00 de ff ff 10 00 c0 00 05 24 00 00 00 e8 03 00 00 ff 10 00 c0 00 0f e5 01 00 00 04 00 ff 10 00 c0 01 0f e5 01 00 00 fd ff ff 10 00 c0 02 0f e5 01 00 00 9c 00 ff 10 00 c0 03 0f e5 01 00 00 3a 00 ff 10 00 c0 04 0f e5 01 00 00 2f 00 ff 10 00 c0 05 0f e5 01 00 00 e4 ff ff 10 00 c0 00 03 16 01 00 00 a0 8c 00 00 ff 10 00 c0 00 0f d7 02 00 00 05 00 ff 10 00 c0 01 0f d7 02 00 00 fe ff ff 10 00 c0 02 0f d7 02 00 00 a0 00 ff 10 00 c0 03 0f d7 02 00 00 43 00 ff 10 00 c0 04 0f d7 02 00 00 31 00 ff 10 00 c0 05 0f d7 02 00 00 ce ff ff 10 00 c0 00 0f ca 03 00 00 04 00 ff 10 00 c0 01 0f ca 03 00 00 ff ff ff 10 00 c0 02 0f ca 03 00 00 a1 00 ff 10 00 c0 03 0f ca 03 00 00 3e 00 ff 10 00 c0 04 0f ca 03 00 00 2c 00 ff 10 00 c0 05 0f ca 03 00 00 e6 ff ff 10 00 c0 00 0f a4 08 00 00 03 00 ff 10 00 c0 01 0f a4 08 00 00 00 00 ff 10 00 c0 02 0f a4 08 00 00 9e 00 ff 10 00 c0 03 0f a4 08 00 00 44 00 ff 10 00 c0 04 0f a4 08 00 00 47 00 ff 10 00 c0 05 0f a4 08 00 00 d3 ff ff 10 00 c0 00 04 7d 08 00 00 b8 0b 00 00 ff 10 00 c0 00 0f 97 09 00 00 03 00 ff 10 00 c0 01 0f 97 09 00 00 ff ff ff 10 00 c0 02 0f 97 09 00 00 9f 00 ff 10 00 c0 03 0f 97 09 00 00 3e 00 ff 10 00 c0 04 0f 97 09 00 00 29 00 ff 10 00 c0 05 0f 97 09 00 00 c9 ff ff 10 00 c0 00 0f 89 0a 00 00 03 00 ff 10 00 c0 01 0f 89 0a 00 00 ff ff ff 10 00 c0 02 0f 89 0a 00 00 9d 00 ff 10 00 c0 03 0f 89 0a 00 00 3d 00 ff 10 00 c0 04 0f 89 0a 00 00 4d 00 ff 10 00 c0 05 0f 89 0a 00 00 e4 ff ff 10 00 c0 00 0f 7c 0b 00 00 03 00 ff 10 00 c0 01 0f 7c 0b 00 00 ff ff ff 10 00 c0 02 0f 7c 0b 00 00 9c 00 ff 10 00 c0 03 0f 7c 0b 00 00 34 00 ff 10 00 c0 04 0f 7c 0b 00 00 1e 00 ff 10 00 c0 05 0f 7c 0b 00 00 e2 ff ff 10 00 c0 00 0f 56 10 00 00 03 00 ff 10 00 c0 01 0f 56 10 00 00 00 00 ff 10 00 c0 02 0f 56 10 00 00 9c 00 ff 10 00 c0 03 0f 56 10 00 00 46 00 ff 10 00 c0 04 0f 56 10 00 00 32 00 ff 10 00 c0 05 0f 56 10 00 00 d2 ff ff 10 00 c0 00 0f 49 11 00 00 03 00 ff 10 00 c0 01 0f 49 11 00 00 01 00 ff 10 00 c0 02 0f 49 11 00 00 a0 00 ff 10 00 c0 03 0f 49 11 00 00 3f 00 ff 10 00 c0 04 0f 49 11 00 00 26 00 ff 10 00 c0 05 0f 49 11 00 00 ca ff ff 10 00 c0 00 0f 3b 12 00 00 04 00 ff 10 00 c0 01 0f 3b 12 00 00 ff ff ff 10 00 c0 02 0f 3b 12 00 00 a0 00 ff 10 00 c0 03 0f 3b 12 00 00 40 00 ff 10 00 c0 04 0f 3b 12 00 00 33 00 ff 10 00 c0 05 0f 3b 12 00 00 e0 ff ff 10 00 c0 00 0f 2e 13 00 00 02 00 ff 10 00 c0 01 0f 2e 13 00 00 ff ff\n"
     ]
    }
   ],
   "source": [
    "content = scp.raw(packet.getlayer(scp.Raw))[deadspace:]\n",
    "printraw(content)\n",
    "packet_bytes = content\n",
    "# packet_bytes"
   ]
  },
  {
   "source": [
    "### Decode Common Packet Header"
   ],
   "cell_type": "markdown",
   "metadata": {}
  },
  {
   "cell_type": "code",
   "execution_count": 87,
   "metadata": {},
   "outputs": [
    {
     "output_type": "stream",
     "name": "stdout",
     "text": [
      "00 cc 03 90\n0 972 b'\\x90'\n"
     ]
    }
   ],
   "source": [
    "CPH_SIZE = 4\n",
    "CPH = packet_bytes[:CPH_SIZE]\n",
    "printraw(CPH)\n",
    "cph_head, checksum = CPH[:-1], CPH[-1:]\n",
    "seq_num, vlp_len = struct.unpack(endianness_code+' B H', cph_head)\n",
    "print(seq_num, vlp_len, checksum)\n",
    "#! TODO: Perform checksum check. (not impl. in FSW atm)\n",
    "assert vlp_len == len(packet_bytes) - CPH_SIZE"
   ]
  },
  {
   "source": [
    "### Decode Variable Length Payload"
   ],
   "cell_type": "markdown",
   "metadata": {}
  },
  {
   "source": [
    "from IrisBackendv3.codec.payload import extract_downlinked_payloads\n",
    "from IrisBackendv3.codec.metadata import DataPathway, DataSource\n",
    "from IrisBackendv3.codec.magic import Magic\n",
    "\n",
    "# Extract the Variable Length Payload\n",
    "VLP = packet_bytes[CPH_SIZE:]\n",
    "# printraw(VLP)\n",
    "\n",
    "\n",
    "# Parse VLP:\n",
    "payloads = extract_downlinked_payloads(\n",
    "    VLP = VLP,\n",
    "    pathway = DataPathway.WIRELESS,\n",
    "    source = DataSource.PCAP\n",
    ")"
   ],
   "cell_type": "code",
   "metadata": {
    "tags": []
   },
   "execution_count": 88,
   "outputs": []
  },
  {
   "cell_type": "code",
   "execution_count": 89,
   "metadata": {},
   "outputs": [
    {
     "output_type": "execute_result",
     "data": {
      "text/plain": [
       "[Module[256]::BlockDriver,\n",
       " Module[512]::RateGroupDriver,\n",
       " Module[768]::ActiveRateGroup-RateGroupLowFreq,\n",
       " Module[1024]::ActiveRateGroup-RateGroupMedFreq,\n",
       " Module[1280]::ActiveRateGroup-RateGroupHiFreq,\n",
       " Module[1536]::CubeRoverTime,\n",
       " Module[1792]::TlmChan,\n",
       " Module[2048]::CommandDispatcher,\n",
       " Module[2304]::GroundInterface,\n",
       " Module[2560]::NetworkManager,\n",
       " Module[2816]::ActiveLogger,\n",
       " Module[3328]::Navigation,\n",
       " Module[3584]::MotorControl,\n",
       " Module[3840]::Imu,\n",
       " Module[4096]::WatchDogInterface,\n",
       " Module[4352]::Camera,\n",
       " Module[65280]::WatchdogHeartbeatTvac]"
      ]
     },
     "metadata": {},
     "execution_count": 89
    }
   ],
   "source": [
    "sorted(standards.modules.vals, key = lambda m: m.ID)"
   ]
  },
  {
   "cell_type": "code",
   "execution_count": 90,
   "metadata": {},
   "outputs": [
    {
     "output_type": "error",
     "ename": "SyntaxError",
     "evalue": "invalid syntax (<ipython-input-90-1472e03e6c7f>, line 14)",
     "traceback": [
      "\u001b[0;36m  File \u001b[0;32m\"<ipython-input-90-1472e03e6c7f>\"\u001b[0;36m, line \u001b[0;32m14\u001b[0m\n\u001b[0;31m    logger.\u001b[0m\n\u001b[0m           ^\u001b[0m\n\u001b[0;31mSyntaxError\u001b[0m\u001b[0;31m:\u001b[0m invalid syntax\n"
     ]
    }
   ],
   "source": [
    "if magic == Magic.TELEMETRY:\n",
    "    # Grab Telemetry Header:\n",
    "    module_id, channel_id, data_size, VLP = VLP[:1], VLP[1:2], VLP[2:4], VLP[4:]\n",
    "    print(module_id, channel_id, data_size)\n",
    "    # Unpack + Format Telemetry Header:\n",
    "    module_id = struct.unpack(endianness_code+'B', module_id)[0] << 8\n",
    "    channel_id = struct.unpack(endianness_code+'B', channel_id)[0]\n",
    "    #! TODO: Not impl. in fsw. Once is, perform check against expected size.\n",
    "    # ... Rn, replace w/expected size\n",
    "    data_size = struct.unpack(endianness_code+'H', data_size)[0]\n",
    "    try:\n",
    "        module = standards.modules[module_id]\n",
    "    except KeyError:\n",
    "        logger.\n",
    "    exp_data_size = standards.modules[module_id] \n",
    "\n",
    "    print(hex(module_id), hex(channel_id), data_size)\n",
    "    # data, timestamp, VLP = VLP[:data_size], VLP[data_size:data_size+4], VLP[data_size+4:]"
   ]
  },
  {
   "cell_type": "code",
   "execution_count": 82,
   "metadata": {},
   "outputs": [
    {
     "output_type": "execute_result",
     "data": {
      "text/plain": [
       "[((['XAcc'], 0), Channel[0]::XAcc: int16), ((['YAcc'], 1), Channel[1]::YAcc: int16), ((['ZAcc'], 2), Channel[2]::ZAcc: int16), ((['XAng'], 3), Channel[3]::XAng: uint16), ((['YAng'], 4), Channel[4]::YAng: uint16), ((['ZAng'], 5), Channel[5]::ZAng: uint16)]"
      ]
     },
     "metadata": {},
     "execution_count": 82
    }
   ],
   "source": [
    "standards.modules['Imu'].telemetry"
   ]
  },
  {
   "cell_type": "code",
   "execution_count": 81,
   "metadata": {},
   "outputs": [
    {
     "output_type": "execute_result",
     "data": {
      "text/plain": [
       "[<FswDataType.I16: 'int16'>,\n",
       " <FswDataType.I16: 'int16'>,\n",
       " <FswDataType.I16: 'int16'>,\n",
       " <FswDataType.U16: 'uint16'>,\n",
       " <FswDataType.U16: 'uint16'>,\n",
       " <FswDataType.U16: 'uint16'>]"
      ]
     },
     "metadata": {},
     "execution_count": 81
    }
   ],
   "source": [
    "[t.datatype for t in standards.modules['Imu'].telemetry.vals]"
   ]
  },
  {
   "cell_type": "code",
   "execution_count": null,
   "metadata": {},
   "outputs": [],
   "source": []
  }
 ]
}