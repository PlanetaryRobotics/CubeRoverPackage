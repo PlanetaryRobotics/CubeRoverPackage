{
 "metadata": {
  "language_info": {
   "codemirror_mode": {
    "name": "ipython",
    "version": 3
   },
   "file_extension": ".py",
   "mimetype": "text/x-python",
   "name": "python",
   "nbconvert_exporter": "python",
   "pygments_lexer": "ipython3",
   "version": "3.8.5"
  },
  "orig_nbformat": 2,
  "kernelspec": {
   "name": "python385jvsc74a57bd08816a32dc6e032dd9374d27f75563e4313e5344332f9668033f6f3b340da094a",
   "display_name": "Python 3.8.5 64-bit ('py_irisbackendv3': pyenv)"
  },
  "metadata": {
   "interpreter": {
    "hash": "8816a32dc6e032dd9374d27f75563e4313e5344332f9668033f6f3b340da094a"
   }
  }
 },
 "nbformat": 4,
 "nbformat_minor": 2,
 "cells": [
  {
   "source": [
    "## Settings"
   ],
   "cell_type": "markdown",
   "metadata": {}
  },
  {
   "cell_type": "code",
   "execution_count": 5,
   "metadata": {},
   "outputs": [],
   "source": [
    "\n",
    "import scapy.all as scp\n",
    "import struct\n",
    "import numpy as np\n",
    "import matplotlib.pyplot as plt\n",
    "\n",
    "from typing import DefaultDict\n",
    "\n",
    "from IrisBackendv3.data_standards import DataStandards\n",
    "from IrisBackendv3.data_standards.logging import logger as DsLogger\n",
    "\n",
    "from IrisBackendv3.codec.magic import Magic, MAGIC_SIZE\n",
    "\n",
    "from IrisBackendv3.utils.basic import print_bytearray_hex as printraw"
   ]
  },
  {
   "cell_type": "code",
   "execution_count": 6,
   "metadata": {},
   "outputs": [
    {
     "output_type": "stream",
     "name": "stdout",
     "text": [
      "Data Standards Overview: [\n\u001b[1m\u001b[40m\u001b[35m\n\tModule[256]::BlockDriver\u001b[0m\n\u001b[47m\u001b[30m\n\t\tCommands:\u001b[0m\n\u001b[47m\u001b[30m\n\t\tTelemetry:\u001b[0m\n\u001b[31m\n\t\t\t0.\tChannel[0]::BdCycles: uint32\u001b[0m\n\u001b[47m\u001b[30m\n\t\tEvents:\u001b[0m\n\u001b[1m\u001b[40m\u001b[35m\n\tModule[512]::RateGroupDriver\u001b[0m\n\u001b[47m\u001b[30m\n\t\tCommands:\u001b[0m\n\u001b[47m\u001b[30m\n\t\tTelemetry:\u001b[0m\n\u001b[47m\u001b[30m\n\t\tEvents:\u001b[0m\n\u001b[1m\u001b[40m\u001b[35m\n\tModule[768]::ActiveRateGroup-RateGroupLowFreq\u001b[0m\n\u001b[47m\u001b[30m\n\t\tCommands:\u001b[0m\n\u001b[47m\u001b[30m\n\t\tTelemetry:\u001b[0m\n\u001b[31m\n\t\t\t0.\tChannel[0]::RgMaxTime: uint32\u001b[0m\n\u001b[31m\n\t\t\t1.\tChannel[1]::RgCycleSlips: uint32\u001b[0m\n\u001b[47m\u001b[30m\n\t\tEvents:\u001b[0m\n\u001b[34m\n\t\t\t0.\tEvent[0]::RateGroupStarted[]\u001b[0m\n\u001b[34m\n\t\t\t1.\tEvent[1]::RateGroupCycleSlip[cycle: uint32]\u001b[0m\n\u001b[1m\u001b[40m\u001b[35m\n\tModule[1536]::CubeRoverTime\u001b[0m\n\u001b[47m\u001b[30m\n\t\tCommands:\u001b[0m\n\u001b[47m\u001b[30m\n\t\tTelemetry:\u001b[0m\n\u001b[47m\u001b[30m\n\t\tEvents:\u001b[0m\n\u001b[1m\u001b[40m\u001b[35m\n\tModule[1792]::TlmChan\u001b[0m\n\u001b[47m\u001b[30m\n\t\tCommands:\u001b[0m\n\u001b[47m\u001b[30m\n\t\tTelemetry:\u001b[0m\n\u001b[47m\u001b[30m\n\t\tEvents:\u001b[0m\n\u001b[1m\u001b[40m\u001b[35m\n\tModule[2048]::CommandDispatcher\u001b[0m\n\u001b[47m\u001b[30m\n\t\tCommands:\u001b[0m\n\u001b[32m\n\t\t\t0.\tCommand[0]::CommandDispatcher_Cmdnoop[]\u001b[0m\n\u001b[32m\n\t\t\t1.\tCommand[1]::CommandDispatcher_Cmdnoopstring[arg_1: char[40]]\u001b[0m\n\u001b[32m\n\t\t\t2.\tCommand[2]::CommandDispatcher_Cmdtestcmd1[arg_1: int32, arg_2: float, arg_3: uint8]\u001b[0m\n\u001b[32m\n\t\t\t3.\tCommand[3]::CommandDispatcher_Cmdcleartracking[]\u001b[0m\n\u001b[47m\u001b[30m\n\t\tTelemetry:\u001b[0m\n\u001b[31m\n\t\t\t0.\tChannel[0]::CommandsDispatched: uint32\u001b[0m\n\u001b[31m\n\t\t\t1.\tChannel[1]::CommandErrors: uint32\u001b[0m\n\u001b[47m\u001b[30m\n\t\tEvents:\u001b[0m\n\u001b[34m\n\t\t\t0.\tEvent[0]::OpCodeRegistered[opcode: uint32, port: int32, slot: int32]\u001b[0m\n\u001b[34m\n\t\t\t1.\tEvent[1]::OpCodeDispatched[opcode: uint32, port: int32]\u001b[0m\n\u001b[34m\n\t\t\t2.\tEvent[2]::OpCodeCompleted[opcode: uint32]\u001b[0m\n\u001b[34m\n\t\t\t3.\tEvent[3]::OpCodeError[opcode: uint32, error: enum/*int32*/]\u001b[0m\n\u001b[34m\n\t\t\t4.\tEvent[4]::MalformedCommand[status: enum/*int32*/]\u001b[0m\n\u001b[34m\n\t\t\t5.\tEvent[5]::InvalidCommand[opcode: uint32]\u001b[0m\n\u001b[34m\n\t\t\t6.\tEvent[6]::TooManyCommands[opcode: uint32]\u001b[0m\n\u001b[34m\n\t\t\t7.\tEvent[7]::NoOpReceived[]\u001b[0m\n\u001b[34m\n\t\t\t8.\tEvent[8]::NoOpStringReceived[message: char[40]]\u001b[0m\n\u001b[34m\n\t\t\t9.\tEvent[9]::TestCmd1Args[arg_1: int32, arg_2: float, arg_3: uint8]\u001b[0m\n\u001b[1m\u001b[40m\u001b[35m\n\tModule[2816]::ActiveLogger\u001b[0m\n\u001b[47m\u001b[30m\n\t\tCommands:\u001b[0m\n\u001b[32m\n\t\t\t0.\tCommand[0]::ActiveLogger_Alogseteventreportfilter[filter_level: enum/*int32*/, filter_enable: enum/*int32*/]\u001b[0m\n\u001b[32m\n\t\t\t1.\tCommand[1]::ActiveLogger_Alogseteventsendfilter[filter_level: enum/*int32*/, filter_enable: enum/*int32*/]\u001b[0m\n\u001b[32m\n\t\t\t2.\tCommand[2]::ActiveLogger_Alogdumpeventlog[filename: char[40]]\u001b[0m\n\u001b[32m\n\t\t\t3.\tCommand[3]::ActiveLogger_Alogsetidfilter[id: uint32, id_filter_enable: enum/*int32*/]\u001b[0m\n\u001b[32m\n\t\t\t4.\tCommand[4]::ActiveLogger_Alogdumpfilterstate[]\u001b[0m\n\u001b[47m\u001b[30m\n\t\tTelemetry:\u001b[0m\n\u001b[47m\u001b[30m\n\t\tEvents:\u001b[0m\n\u001b[34m\n\t\t\t0.\tEvent[0]::Alogfilewriteerr[stage: enum/*int32*/, error: int32]\u001b[0m\n\u001b[34m\n\t\t\t1.\tEvent[1]::Alogfilewritecomplete[records: uint32]\u001b[0m\n\u001b[34m\n\t\t\t2.\tEvent[2]::Alogseverityfilterstate[severity: enum/*int32*/, recv_enabled: bool, send_enabled: bool]\u001b[0m\n\u001b[34m\n\t\t\t3.\tEvent[3]::Alogidfilterenabled[id: uint32]\u001b[0m\n\u001b[34m\n\t\t\t4.\tEvent[4]::Alogidfilterlistfull[id: uint32]\u001b[0m\n\u001b[34m\n\t\t\t5.\tEvent[5]::Alogidfilterremoved[id: uint32]\u001b[0m\n\u001b[34m\n\t\t\t6.\tEvent[6]::Alogidfilternotfound[id: uint32]\u001b[0m\n\u001b[1m\u001b[40m\u001b[35m\n\tModule[4096]::WatchDogInterface\u001b[0m\n\u001b[47m\u001b[30m\n\t\tCommands:\u001b[0m\n\u001b[32m\n\t\t\t0.\tCommand[0]::WatchDogInterface_ResetSpecific[reset_value: uint8]\u001b[0m\n\u001b[32m\n\t\t\t1.\tCommand[1]::WatchDogInterface_PrepareForDeployment[]\u001b[0m\n\u001b[32m\n\t\t\t2.\tCommand[2]::WatchDogInterface_DisengageFromLander[]\u001b[0m\n\u001b[32m\n\t\t\t3.\tCommand[3]::WatchDogInterface_SwitchConnectionMode[]\u001b[0m\n\u001b[32m\n\t\t\t4.\tCommand[170]::WatchDogInterface_SetKpMost[]\u001b[0m\n\u001b[32m\n\t\t\t5.\tCommand[171]::WatchDogInterface_SetKpLeast[]\u001b[0m\n\u001b[32m\n\t\t\t6.\tCommand[172]::WatchDogInterface_SetKpSpecific[]\u001b[0m\n\u001b[32m\n\t\t\t7.\tCommand[186]::WatchDogInterface_SetKiMost[]\u001b[0m\n\u001b[32m\n\t\t\t8.\tCommand[187]::WatchDogInterface_SetKiLeast[]\u001b[0m\n\u001b[32m\n\t\t\t9.\tCommand[188]::WatchDogInterface_SetKiSpecific[]\u001b[0m\n\u001b[32m\n\t\t\t10.\tCommand[202]::WatchDogInterface_SetKdMost[]\u001b[0m\n\u001b[32m\n\t\t\t11.\tCommand[203]::WatchDogInterface_SetKdLeast[]\u001b[0m\n\u001b[32m\n\t\t\t12.\tCommand[218]::WatchDogInterface_SetVSetpoint[]\u001b[0m\n\u001b[32m\n\t\t\t13.\tCommand[234]::WatchDogInterface_SwitchToSleepMode[]\u001b[0m\n\u001b[32m\n\t\t\t14.\tCommand[235]::WatchDogInterface_SwitchToKeepAliveMode[]\u001b[0m\n\u001b[32m\n\t\t\t15.\tCommand[236]::WatchDogInterface_SwitchToServiceMode[]\u001b[0m\n\u001b[47m\u001b[30m\n\t\tTelemetry:\u001b[0m\n\u001b[31m\n\t\t\t0.\tChannel[2]::Voltage2.5V: int16\u001b[0m\n\u001b[31m\n\t\t\t1.\tChannel[3]::Voltage2.8V: int16\u001b[0m\n\u001b[31m\n\t\t\t2.\tChannel[4]::Voltage24V: int16\u001b[0m\n\u001b[31m\n\t\t\t3.\tChannel[5]::Voltage28V: int16\u001b[0m\n\u001b[31m\n\t\t\t4.\tChannel[16]::Batterythermistor: uint8\u001b[0m\n\u001b[31m\n\t\t\t5.\tChannel[23]::Systemstatus: int8\u001b[0m\n\u001b[31m\n\t\t\t6.\tChannel[24]::Batterylevel: uint16\u001b[0m\n\u001b[31m\n\t\t\t7.\tChannel[25]::Batterycurrent: uint32\u001b[0m\n\u001b[31m\n\t\t\t8.\tChannel[26]::Therm0: uint16\u001b[0m\n\u001b[31m\n\t\t\t9.\tChannel[27]::Therm1: uint16\u001b[0m\n\u001b[31m\n\t\t\t10.\tChannel[28]::Therm2: uint16\u001b[0m\n\u001b[31m\n\t\t\t11.\tChannel[29]::Therm3: uint16\u001b[0m\n\u001b[31m\n\t\t\t12.\tChannel[30]::Therm4: uint16\u001b[0m\n\u001b[31m\n\t\t\t13.\tChannel[31]::Therm5: uint16\u001b[0m\n\u001b[47m\u001b[30m\n\t\tEvents:\u001b[0m\n\u001b[34m\n\t\t\t0.\tEvent[0]::WatchDogIncorrectResp[error: uint8]\u001b[0m\n\u001b[34m\n\t\t\t1.\tEvent[1]::WatchDogTimedOut[]\u001b[0m\n\u001b[34m\n\t\t\t2.\tEvent[2]::WatchDogCmdReceived[cmd: char[50]]\u001b[0m\n\u001b[34m\n\t\t\t3.\tEvent[3]::WatchDogCommError[error: uint32]\u001b[0m\n\u001b[34m\n\t\t\t4.\tEvent[4]::AdcThermistorError[]\u001b[0m\n\u001b[1m\u001b[40m\u001b[35m\n\tModule[2304]::GroundInterface\u001b[0m\n\u001b[47m\u001b[30m\n\t\tCommands:\u001b[0m\n\u001b[32m\n\t\t\t0.\tCommand[0]::GroundInterface_SetPrimaryInterface[primary_interface: enum/*int32*/]\u001b[0m\n\u001b[47m\u001b[30m\n\t\tTelemetry:\u001b[0m\n\u001b[31m\n\t\t\t0.\tChannel[0]::GiUplinkSeqNum: uint8\u001b[0m\n\u001b[31m\n\t\t\t1.\tChannel[1]::GiDownlinkSeqNum: uint8\u001b[0m\n\u001b[31m\n\t\t\t2.\tChannel[2]::GiPacketsReceived: uint32\u001b[0m\n\u001b[31m\n\t\t\t3.\tChannel[3]::GiPacketsTransmitted: uint32\u001b[0m\n\u001b[31m\n\t\t\t4.\tChannel[4]::GiTlmItemsReceived: uint32\u001b[0m\n\u001b[31m\n\t\t\t5.\tChannel[5]::GiTlmItemsDownlinked: uint32\u001b[0m\n\u001b[31m\n\t\t\t6.\tChannel[6]::GiLogsReceived: uint32\u001b[0m\n\u001b[31m\n\t\t\t7.\tChannel[7]::GiLogsDownlinked: uint32\u001b[0m\n\u001b[31m\n\t\t\t8.\tChannel[8]::GiCmdsUplinked: uint32\u001b[0m\n\u001b[31m\n\t\t\t9.\tChannel[9]::GiCmdsSent: uint32\u001b[0m\n\u001b[31m\n\t\t\t10.\tChannel[10]::GiUplinkPktErrs: uint32\u001b[0m\n\u001b[31m\n\t\t\t11.\tChannel[11]::GiAppBytesReceived: uint32\u001b[0m\n\u001b[31m\n\t\t\t12.\tChannel[12]::GiAppBytesDownlinked: uint32\u001b[0m\n\u001b[47m\u001b[30m\n\t\tEvents:\u001b[0m\n\u001b[34m\n\t\t\t0.\tEvent[0]::GiUplinkedPacketError[error_type: enum/*int32*/, expected: uint16, got: uint16]\u001b[0m\n\u001b[34m\n\t\t\t1.\tEvent[1]::GiCommandReceived[seq: uint8, checksum: uint16]\u001b[0m\n\u001b[34m\n\t\t\t2.\tEvent[2]::GiDownlinkedPacket[seq: uint8, checksum: uint16, length: uint16]\u001b[0m\n\u001b[34m\n\t\t\t3.\tEvent[3]::GiDownlinkedItem[seq: uint8, from: enum/*int32*/]\u001b[0m\n\u001b[1m\u001b[40m\u001b[35m\n\tModule[2560]::NetworkManager\u001b[0m\n\u001b[47m\u001b[30m\n\t\tCommands:\u001b[0m\n\u001b[47m\u001b[30m\n\t\tTelemetry:\u001b[0m\n\u001b[31m\n\t\t\t0.\tChannel[0]::Rssi: int8\u001b[0m\n\u001b[31m\n\t\t\t1.\tChannel[1]::Snr: int8\u001b[0m\n\u001b[31m\n\t\t\t2.\tChannel[2]::PktRecv: uint32\u001b[0m\n\u001b[31m\n\t\t\t3.\tChannel[3]::PktSent: uint32\u001b[0m\n\u001b[47m\u001b[30m\n\t\tEvents:\u001b[0m\n\u001b[34m\n\t\t\t0.\tEvent[0]::StateChange[from_state: enum/*int32*/, to_state: enum/*int32*/]\u001b[0m\n\u001b[34m\n\t\t\t1.\tEvent[1]::ExecuteCallbackError[error_code: uint16]\u001b[0m\n\u001b[34m\n\t\t\t2.\tEvent[2]::Wf121InitializationFailed[]\u001b[0m\n\u001b[1m\u001b[40m\u001b[35m\n\tModule[3840]::Imu\u001b[0m\n\u001b[47m\u001b[30m\n\t\tCommands:\u001b[0m\n\u001b[32m\n\t\t\t0.\tCommand[0]::Imu_ImuReportData[]\u001b[0m\n\u001b[32m\n\t\t\t1.\tCommand[1]::Imu_ImuTurnOn[]\u001b[0m\n\u001b[32m\n\t\t\t2.\tCommand[2]::Imu_ImuTurnOff[]\u001b[0m\n\u001b[47m\u001b[30m\n\t\tTelemetry:\u001b[0m\n\u001b[31m\n\t\t\t0.\tChannel[0]::XAcc: int16\u001b[0m\n\u001b[31m\n\t\t\t1.\tChannel[1]::YAcc: int16\u001b[0m\n\u001b[31m\n\t\t\t2.\tChannel[2]::ZAcc: int16\u001b[0m\n\u001b[31m\n\t\t\t3.\tChannel[3]::XAng: uint16\u001b[0m\n\u001b[31m\n\t\t\t4.\tChannel[4]::YAng: uint16\u001b[0m\n\u001b[31m\n\t\t\t5.\tChannel[5]::ZAng: uint16\u001b[0m\n\u001b[47m\u001b[30m\n\t\tEvents:\u001b[0m\n\u001b[34m\n\t\t\t0.\tEvent[0]::ImuAngleWarning[]\u001b[0m\n\u001b[34m\n\t\t\t1.\tEvent[1]::ImuCommunicationFailure[]\u001b[0m\n\u001b[34m\n\t\t\t2.\tEvent[2]::ImuPoweredOn[]\u001b[0m\n\u001b[34m\n\t\t\t3.\tEvent[3]::ImuPoweredOff[]\u001b[0m\n\u001b[1m\u001b[40m\u001b[35m\n\tModule[3584]::MotorControl\u001b[0m\n\u001b[47m\u001b[30m\n\t\tCommands:\u001b[0m\n\u001b[32m\n\t\t\t0.\tCommand[0]::MotorControl_McCurrentPid[motor_id: uint8, pi_values: uint32]\u001b[0m\n\u001b[32m\n\t\t\t1.\tCommand[1]::MotorControl_McSpeedPid[motor_id: uint8, pid_values: uint64]\u001b[0m\n\u001b[32m\n\t\t\t2.\tCommand[2]::MotorControl_McPositionPid[motor_id: uint8, pid_values: uint64]\u001b[0m\n\u001b[32m\n\t\t\t3.\tCommand[3]::MotorControl_McAcceleration[motor_id: uint8, rate_values: uint32]\u001b[0m\n\u001b[32m\n\t\t\t4.\tCommand[4]::MotorControl_McStallDetection[motor_id: uint8, value: uint8]\u001b[0m\n\u001b[32m\n\t\t\t5.\tCommand[5]::MotorControl_McResetPosition[motor_id: uint8]\u001b[0m\n\u001b[32m\n\t\t\t6.\tCommand[6]::MotorControl_McSpin[motor_id: uint8, spin_type: uint8]\u001b[0m\n\u001b[32m\n\t\t\t7.\tCommand[7]::MotorControl_McPowerBoost[motor_id: uint8, value: uint8]\u001b[0m\n\u001b[32m\n\t\t\t8.\tCommand[8]::MotorControl_McSetParameter[param_select: enum/*int32*/, new_value: uint32]\u001b[0m\n\u001b[32m\n\t\t\t9.\tCommand[9]::MotorControl_McGetParameters[]\u001b[0m\n\u001b[32m\n\t\t\t10.\tCommand[16]::MotorControl_McUpdateTelemetry[]\u001b[0m\n\u001b[32m\n\t\t\t11.\tCommand[152]::MotorControl_McDriveTest[distance: int64, move_type: int8]\u001b[0m\n\u001b[32m\n\t\t\t12.\tCommand[153]::MotorControl_McSelfTest[]\u001b[0m\n\u001b[47m\u001b[30m\n\t\tTelemetry:\u001b[0m\n\u001b[31m\n\t\t\t0.\tChannel[0]::McflEncoderDist: int32\u001b[0m\n\u001b[31m\n\t\t\t1.\tChannel[1]::McflCurrent: uint16\u001b[0m\n\u001b[31m\n\t\t\t2.\tChannel[2]::McflSpeed: int16\u001b[0m\n\u001b[31m\n\t\t\t3.\tChannel[3]::McfrEncoderDist: int32\u001b[0m\n\u001b[31m\n\t\t\t4.\tChannel[4]::McfrCurrent: uint16\u001b[0m\n\u001b[31m\n\t\t\t5.\tChannel[5]::McfrSpeed: int16\u001b[0m\n\u001b[31m\n\t\t\t6.\tChannel[6]::McrrEncoderDist: int32\u001b[0m\n\u001b[31m\n\t\t\t7.\tChannel[7]::McrrCurrent: uint16\u001b[0m\n\u001b[31m\n\t\t\t8.\tChannel[8]::McrrSpeed: int16\u001b[0m\n\u001b[31m\n\t\t\t9.\tChannel[9]::McrlEncoderDist: int32\u001b[0m\n\u001b[31m\n\t\t\t10.\tChannel[10]::McrlCurrent: uint16\u001b[0m\n\u001b[31m\n\t\t\t11.\tChannel[11]::McrlSpeed: int16\u001b[0m\n\u001b[47m\u001b[30m\n\t\tEvents:\u001b[0m\n\u001b[34m\n\t\t\t0.\tEvent[0]::McMoveStarted[]\u001b[0m\n\u001b[34m\n\t\t\t1.\tEvent[1]::McMoveComplete[]\u001b[0m\n\u001b[34m\n\t\t\t2.\tEvent[2]::McmspFaultDetected[]\u001b[0m\n\u001b[34m\n\t\t\t3.\tEvent[3]::McmspNotResponding[]\u001b[0m\n\u001b[34m\n\t\t\t4.\tEvent[4]::McmspNotReporting[]\u001b[0m\n\u001b[34m\n\t\t\t5.\tEvent[5]::McParameterChanged[]\u001b[0m\n\u001b[34m\n\t\t\t6.\tEvent[6]::McEncoderReset[]\u001b[0m\n\u001b[1m\u001b[40m\u001b[35m\n\tModule[3328]::Navigation\u001b[0m\n\u001b[47m\u001b[30m\n\t\tCommands:\u001b[0m\n\u001b[32m\n\t\t\t0.\tCommand[0]::Navigation_NavDriveForward[distance: uint8, speed: uint8, callback_id: uint16]\u001b[0m\n\u001b[32m\n\t\t\t1.\tCommand[1]::Navigation_NavDriveBackwards[distance: uint8, speed: uint8, callback_id: uint16]\u001b[0m\n\u001b[32m\n\t\t\t2.\tCommand[2]::Navigation_NavRotateRight[distance: uint8, speed: uint8, callback_id: uint16]\u001b[0m\n\u001b[32m\n\t\t\t3.\tCommand[3]::Navigation_NavRotateLeft[distance: uint8, speed: uint8, callback_id: uint16]\u001b[0m\n\u001b[32m\n\t\t\t4.\tCommand[4]::Navigation_NavStopMovement[]\u001b[0m\n\u001b[47m\u001b[30m\n\t\tTelemetry:\u001b[0m\n\u001b[31m\n\t\t\t0.\tChannel[0]::NavMovedForward: uint16\u001b[0m\n\u001b[31m\n\t\t\t1.\tChannel[1]::NavMovedBackward: uint16\u001b[0m\n\u001b[31m\n\t\t\t2.\tChannel[2]::NavTurnedLeft: uint16\u001b[0m\n\u001b[31m\n\t\t\t3.\tChannel[3]::NavTurnedRight: uint16\u001b[0m\n\u001b[31m\n\t\t\t4.\tChannel[4]::NavImageSize: uint16\u001b[0m\n\u001b[47m\u001b[30m\n\t\tEvents:\u001b[0m\n\u001b[34m\n\t\t\t0.\tEvent[0]::NavMoveInterrupted[]\u001b[0m\n\u001b[34m\n\t\t\t1.\tEvent[1]::NavMoveQueueLimit[]\u001b[0m\n\u001b[1m\u001b[40m\u001b[35m\n\tModule[4352]::Camera\u001b[0m\n\u001b[47m\u001b[30m\n\t\tCommands:\u001b[0m\n\u001b[32m\n\t\t\t0.\tCommand[0]::Camera_GetStatus[]\u001b[0m\n\u001b[32m\n\t\t\t1.\tCommand[1]::Camera_TakeImage[camera_num: uint8, callback_id: uint16]\u001b[0m\n\u001b[32m\n\t\t\t2.\tCommand[2]::Camera_Error[action: uint8]\u001b[0m\n\u001b[32m\n\t\t\t3.\tCommand[3]::Camera_ConfigureCamera0[config: uint64]\u001b[0m\n\u001b[32m\n\t\t\t4.\tCommand[4]::Camera_Camera0Crop[config: uint64]\u001b[0m\n\u001b[32m\n\t\t\t5.\tCommand[5]::Camera_ConfigureCamera1[config: uint64]\u001b[0m\n\u001b[32m\n\t\t\t6.\tCommand[6]::Camera_Camera1Crop[config: uint64]\u001b[0m\n\u001b[32m\n\t\t\t7.\tCommand[7]::Camera_ReadImage[callback_id: uint16]\u001b[0m\n\u001b[32m\n\t\t\t8.\tCommand[8]::Camera_EraseImage[]\u001b[0m\n\u001b[32m\n\t\t\t9.\tCommand[9]::Camera_SoftCameraReset[camera_num: uint8]\u001b[0m\n\u001b[32m\n\t\t\t10.\tCommand[10]::Camera_ImageDump[]\u001b[0m\n\u001b[47m\u001b[30m\n\t\tTelemetry:\u001b[0m\n\u001b[31m\n\t\t\t0.\tChannel[0]::CamComponentImagesRequested: uint32\u001b[0m\n\u001b[31m\n\t\t\t1.\tChannel[1]::CamCommandImagesRequested: uint32\u001b[0m\n\u001b[31m\n\t\t\t2.\tChannel[2]::CamImagesSent: uint32\u001b[0m\n\u001b[31m\n\t\t\t3.\tChannel[3]::CamBytesSent: uint32\u001b[0m\n\u001b[31m\n\t\t\t4.\tChannel[4]::CamLatestCallbackId: uint16\u001b[0m\n\u001b[47m\u001b[30m\n\t\tEvents:\u001b[0m\n\n]\n"
     ]
    }
   ],
   "source": [
    "DsLogger.setLevel('CRITICAL')\n",
    "standards = DataStandards.build_standards()\n",
    "standards.print_overview()"
   ]
  },
  {
   "cell_type": "code",
   "execution_count": 9,
   "metadata": {},
   "outputs": [
    {
     "output_type": "stream",
     "name": "stdout",
     "text": [
      "01 09 00 00 55 da ba 00 01 11 01 05 00\n0109000055daba000111010500\n"
     ]
    }
   ],
   "source": [
    "from IrisBackendv3.codec.fsw_data_codec import encode\n",
    "bo = '<'\n",
    "seq_num = 0x00\n",
    "def pack(name_m: str, name_c: str, data: bytes) -> bytes:\n",
    "    global seq_num\n",
    "    module = standards.modules[name_m]\n",
    "    cmd = module.commands[name_m+'_'+name_c]\n",
    "\n",
    "    magic = Magic.COMMAND\n",
    "    magic_bytes = magic.encode(byte_order=bo)\n",
    "    opcode = struct.pack(bo+'H', module.ID | cmd.ID)\n",
    "\n",
    "    seq_num = seq_num + 1\n",
    "    vlp_len = MAGIC_SIZE + 2 + len(data)\n",
    "    chk = 0x00\n",
    "    CPH = struct.pack(bo+'B H B', seq_num, vlp_len, chk)\n",
    "\n",
    "    out = CPH + magic_bytes + opcode + data\n",
    "    return out\n",
    "    \n",
    "data = struct.pack(bo+'B H', 0x01, 0x0005) # 77 for modes, 60 for prep/deploy\n",
    "packet = pack('Camera', 'TakeImage', data) \n",
    "printraw(packet)\n",
    "print(packet.hex())"
   ]
  },
  {
   "cell_type": "code",
   "execution_count": 14,
   "metadata": {},
   "outputs": [
    {
     "output_type": "error",
     "ename": "NameError",
     "evalue": "name 'CommandPayload' is not defined",
     "traceback": [
      "\u001b[0;31m---------------------------------------------------------------------------\u001b[0m",
      "\u001b[0;31mNameError\u001b[0m                                 Traceback (most recent call last)",
      "\u001b[0;32m<ipython-input-14-1e054fd40d18>\u001b[0m in \u001b[0;36m<module>\u001b[0;34m\u001b[0m\n\u001b[0;32m----> 1\u001b[0;31m \u001b[0;32mfrom\u001b[0m \u001b[0mIrisBackendv3\u001b[0m\u001b[0;34m.\u001b[0m\u001b[0mcodec\u001b[0m\u001b[0;34m.\u001b[0m\u001b[0mpayload\u001b[0m \u001b[0;32mimport\u001b[0m \u001b[0mPayload\u001b[0m\u001b[0;34m,\u001b[0m \u001b[0mCommandPayload\u001b[0m\u001b[0;34m\u001b[0m\u001b[0;34m\u001b[0m\u001b[0m\n\u001b[0m\u001b[1;32m      2\u001b[0m \u001b[0;32mfrom\u001b[0m \u001b[0mIrisBackendv3\u001b[0m\u001b[0;34m.\u001b[0m\u001b[0mcodec\u001b[0m\u001b[0;34m.\u001b[0m\u001b[0mmetadata\u001b[0m \u001b[0;32mimport\u001b[0m \u001b[0mDataPathway\u001b[0m\u001b[0;34m,\u001b[0m \u001b[0mDataSource\u001b[0m\u001b[0;34m\u001b[0m\u001b[0;34m\u001b[0m\u001b[0m\n\u001b[1;32m      3\u001b[0m \u001b[0;32mfrom\u001b[0m \u001b[0mIrisBackendv3\u001b[0m\u001b[0;34m.\u001b[0m\u001b[0mcodec\u001b[0m\u001b[0;34m.\u001b[0m\u001b[0mmagic\u001b[0m \u001b[0;32mimport\u001b[0m \u001b[0mMagic\u001b[0m\u001b[0;34m\u001b[0m\u001b[0;34m\u001b[0m\u001b[0m\n\u001b[1;32m      4\u001b[0m \u001b[0;34m\u001b[0m\u001b[0m\n\u001b[1;32m      5\u001b[0m \u001b[0mPayload\u001b[0m\u001b[0;34m.\u001b[0m\u001b[0muse_standards\u001b[0m\u001b[0;34m(\u001b[0m\u001b[0mstandards\u001b[0m\u001b[0;34m)\u001b[0m\u001b[0;34m\u001b[0m\u001b[0;34m\u001b[0m\u001b[0m\n",
      "\u001b[0;32m~/Documents/PKBACK/GitHub/CubeRoverPackage/Apps/GroundSoftware/IrisBackendv3/codec/payload.py\u001b[0m in \u001b[0;36m<module>\u001b[0;34m\u001b[0m\n\u001b[1;32m    313\u001b[0m \u001b[0;34m\u001b[0m\u001b[0m\n\u001b[1;32m    314\u001b[0m \u001b[0;34m\u001b[0m\u001b[0m\n\u001b[0;32m--> 315\u001b[0;31m \u001b[0;32mclass\u001b[0m \u001b[0mCommandPayload\u001b[0m\u001b[0;34m(\u001b[0m\u001b[0mUplinkedPayload\u001b[0m\u001b[0;34m[\u001b[0m\u001b[0mCommandPayload\u001b[0m\u001b[0;34m]\u001b[0m\u001b[0;34m)\u001b[0m\u001b[0;34m:\u001b[0m\u001b[0;34m\u001b[0m\u001b[0;34m\u001b[0m\u001b[0m\n\u001b[0m\u001b[1;32m    316\u001b[0m     \u001b[0;34m\"\"\"Implementation of Payload Interface for IRIS Telemetry Payloads.\"\"\"\u001b[0m\u001b[0;34m\u001b[0m\u001b[0;34m\u001b[0m\u001b[0m\n\u001b[1;32m    317\u001b[0m \u001b[0;34m\u001b[0m\u001b[0m\n",
      "\u001b[0;31mNameError\u001b[0m: name 'CommandPayload' is not defined"
     ]
    }
   ],
   "source": [
    "from IrisBackendv3.codec.payload import Payload, CommandPayload\n",
    "from IrisBackendv3.codec.metadata import DataPathway, DataSource\n",
    "from IrisBackendv3.codec.magic import Magic\n",
    "\n",
    "Payload.use_standards(standards)\n",
    "\n",
    "def pack_watchdog(command_name: str, **kwargs):\n",
    "    module, command = standards.global_command_lookup(command_name)\n",
    "    payload = CommandPayload(\n",
    "        pathway = DataPathway.WIRED,\n",
    "        source = DataSource.GENERATED,\n",
    "        magic = Magic.WATCHDOG_COMMAND,\n",
    "        module_id = module.ID,\n",
    "        command_id = command.ID,\n",
    "        args = kwargs\n",
    "    )\n",
    "    payload.encode()\n",
    "packet = pack_hercules('Camera_TakeImage', camera_num=0x01, callback_id = 0x05)\n",
    "printraw(packet)"
   ]
  },
  {
   "cell_type": "code",
   "execution_count": 1,
   "metadata": {},
   "outputs": [
    {
     "output_type": "stream",
     "name": "stdout",
     "text": [
      "(Apple[5] -> !None, Dead[48879] -> !None)\n--pickle--\nDummy Reduce\nEncoding\nGetting State\nDummy Reduce\nEncoding\nGetting State\n--unpickle--\nDecoding\nSetting State\nDecoding\nSetting State\n(Apple[5] -> !b'\\x00\\x00\\x00\\x05', Dead[48879] -> !b'\\x00\\x00\\xbe\\xef')\n(Apple[5] -> !b'\\x00\\x00\\x00\\x05', Dead[48879] -> !b'\\x00\\x00\\xbe\\xef')\n(True, True)\n"
     ]
    },
    {
     "output_type": "error",
     "ename": "TypeError",
     "evalue": "tuple indices must be integers or slices, not str",
     "traceback": [
      "\u001b[0;31m---------------------------------------------------------------------------\u001b[0m",
      "\u001b[0;31mTypeError\u001b[0m                                 Traceback (most recent call last)",
      "\u001b[0;32m<ipython-input-1-00a29469475b>\u001b[0m in \u001b[0;36m<module>\u001b[0;34m\u001b[0m\n\u001b[1;32m    118\u001b[0m     \u001b[0mb\u001b[0m \u001b[0;34m=\u001b[0m \u001b[0;34m'5'\u001b[0m\u001b[0;34m\u001b[0m\u001b[0;34m\u001b[0m\u001b[0m\n\u001b[1;32m    119\u001b[0m )\n\u001b[0;32m--> 120\u001b[0;31m \u001b[0mx\u001b[0m\u001b[0;34m[\u001b[0m\u001b[0;34m'b'\u001b[0m\u001b[0;34m]\u001b[0m\u001b[0;34m\u001b[0m\u001b[0;34m\u001b[0m\u001b[0m\n\u001b[0m",
      "\u001b[0;31mTypeError\u001b[0m: tuple indices must be integers or slices, not str"
     ]
    }
   ],
   "source": [
    "from __future__ import annotations\n",
    "from typing import Optional, Dict, List\n",
    "import struct\n",
    "import pickle\n",
    "from abc import abstractmethod\n",
    "\n",
    "class Dummy:\n",
    "    __slots__: List[str] = [\n",
    "        '_raw',\n",
    "        '_endianness_code'\n",
    "    ]\n",
    "\n",
    "    _raw: Optional[bytes]\n",
    "    _endianness_code: str\n",
    "\n",
    "    def __init__(self,\n",
    "        raw: Optional[bytes] = None,\n",
    "        endianness_code = '!'\n",
    "    ) -> None:\n",
    "        self._raw = raw\n",
    "        self._endianness_code = endianness_code\n",
    "\n",
    "    @abstractmethod\n",
    "    def encode(self) -> bytes:\n",
    "        raise NotImplementedError()\n",
    "\n",
    "    @classmethod\n",
    "    @abstractmethod\n",
    "    def decode(cls, raw: bytes, endianness_code:str) -> Dummy:\n",
    "        raise NotImplementedError()\n",
    "\n",
    "    def __reduce__(self) -> Tuple[Callable, Tuple[bytes, str], Optional[str]]:\n",
    "        print(\"Dummy Reduce\")\n",
    "\n",
    "        if self._raw is None:\n",
    "            self._raw = self.encode()\n",
    "\n",
    "        if hasattr(self, '__getstate__'):\n",
    "            state = self.__getattribute__('__getstate__')()\n",
    "        else:\n",
    "            state = None\n",
    "\n",
    "        # \"Callable object\" returned will be the decoding function:\n",
    "        # If a subclassed object is reduced, it will call that subclass' `decode`\n",
    "        # function (assuming it's been implemented).\n",
    "        return (self.__class__.decode, (self._raw, self._endianness_code), state)\n",
    "\n",
    "class DummyThicc(Dummy):\n",
    "    __slots__: List[str] = [\n",
    "        'other_thing',\n",
    "        '_data'\n",
    "    ]\n",
    "\n",
    "    other_thing: str\n",
    "    _data: int\n",
    "\n",
    "    def __init__(self,\n",
    "        data: int,\n",
    "        other_thing: str = \"\",\n",
    "        raw: Optional[bytes] = None,\n",
    "        endianness_code = '!'\n",
    "    ) -> None:\n",
    "        self.other_thing = other_thing\n",
    "        self._data = data\n",
    "        super().__init__(raw, endianness_code)\n",
    "\n",
    "    def encode(self) -> bytes:\n",
    "        print(\"Encoding\")\n",
    "        return struct.pack(self._endianness_code+'L', self._data)\n",
    "\n",
    "    @classmethod\n",
    "    def decode(cls, raw: bytes, endianness_code:str) -> Dummy:\n",
    "        print(\"Decoding\")\n",
    "        return cls(\n",
    "            data = struct.unpack(endianness_code+'L', raw)[0],\n",
    "            raw = raw,\n",
    "            endianness_code = endianness_code\n",
    "        )\n",
    "\n",
    "    def __repr__(self) -> str:\n",
    "        return f\"{self.other_thing}[{self._data}] -> {self._endianness_code}{self._raw}\"\n",
    "\n",
    "    def __eq__(self, other) -> bool:\n",
    "        return self.other_thing == other.other_thing and self._data == other._data\n",
    "\n",
    "    def __getstate__(self) -> str:\n",
    "        print(\"Getting State\")\n",
    "        return self.other_thing\n",
    "\n",
    "    def __setstate__(self, state: str) -> None:\n",
    "        print(\"Setting State\")\n",
    "        self.other_thing = state\n",
    "\n",
    "\n",
    "A = DummyThicc(other_thing='Apple', data=5)\n",
    "B = DummyThicc(other_thing='Dead', data=0xBEEF)\n",
    "print((A, B))\n",
    "\n",
    "print('--pickle--')\n",
    "pA = pickle.dumps(A)\n",
    "pB = pickle.dumps(B)\n",
    "print('--unpickle--')\n",
    "upA = pickle.loads(pA)\n",
    "upB = pickle.loads(pB)\n",
    "\n",
    "print((A, B))\n",
    "print((upA, upB))\n",
    "print((upA==A, upB==B))\n",
    "\n",
    "from typing import NamedTuple\n",
    "\n",
    "class X(NamedTuple):\n",
    "    a: int\n",
    "    b: str\n",
    "\n",
    "x = X(\n",
    "    a = 0,\n",
    "    b = '5'\n",
    ")\n",
    "x['b']\n"
   ]
  },
  {
   "cell_type": "code",
   "execution_count": 2,
   "metadata": {},
   "outputs": [
    {
     "output_type": "error",
     "ename": "NameError",
     "evalue": "name 'scp' is not defined",
     "traceback": [
      "\u001b[0;31m---------------------------------------------------------------------------\u001b[0m",
      "\u001b[0;31mNameError\u001b[0m                                 Traceback (most recent call last)",
      "\u001b[0;32m<ipython-input-2-ce8d079b566e>\u001b[0m in \u001b[0;36m<module>\u001b[0;34m\u001b[0m\n\u001b[1;32m      1\u001b[0m \u001b[0;31m# Data Transport:\u001b[0m\u001b[0;34m\u001b[0m\u001b[0;34m\u001b[0m\u001b[0;34m\u001b[0m\u001b[0m\n\u001b[1;32m      2\u001b[0m \u001b[0mfile\u001b[0m \u001b[0;34m=\u001b[0m \u001b[0;34m'./test-data/Iris_FSWv1.0.0_210409_Telemetry.pcapng'\u001b[0m \u001b[0;31m# PCAP logs\u001b[0m\u001b[0;34m\u001b[0m\u001b[0;34m\u001b[0m\u001b[0m\n\u001b[0;32m----> 3\u001b[0;31m \u001b[0mprotocol\u001b[0m \u001b[0;34m=\u001b[0m \u001b[0mscp\u001b[0m\u001b[0;34m.\u001b[0m\u001b[0mUDP\u001b[0m \u001b[0;31m# Protocol FSW is using to send data\u001b[0m\u001b[0;34m\u001b[0m\u001b[0;34m\u001b[0m\u001b[0m\n\u001b[0m\u001b[1;32m      4\u001b[0m \u001b[0mport\u001b[0m \u001b[0;34m=\u001b[0m \u001b[0;36m8080\u001b[0m \u001b[0;31m# Port on the spacecraft FSW is sending data to\u001b[0m\u001b[0;34m\u001b[0m\u001b[0;34m\u001b[0m\u001b[0m\n\u001b[1;32m      5\u001b[0m \u001b[0;34m\u001b[0m\u001b[0m\n",
      "\u001b[0;31mNameError\u001b[0m: name 'scp' is not defined"
     ]
    }
   ],
   "source": [
    "# Data Transport:\n",
    "file = './test-data/Iris_FSWv1.0.0_210409_Telemetry.pcapng' # PCAP logs\n",
    "protocol = scp.UDP # Protocol FSW is using to send data\n",
    "port = 8080 # Port on the spacecraft FSW is sending data to\n",
    "\n",
    "# Data Formatting Settings:\n",
    "packetgap = 0 # number of packets to ignore at beginning of pcap\n",
    "deadspace = 0 # number of bytes of deadspace at the beginning of the\n",
    "endianness_code = \"<\" # < = little, > = big, ! = network\n",
    "\n",
    "# Image Formatting Settings:\n",
    "image_settings = {\n",
    "    \"width\": 2592,\n",
    "    \"height\": 1944\n",
    "}\n",
    "\n",
    "# Magics:\n",
    "file_magic = bytearray([0xda,0xba,0xd0,0x00])\n",
    "if endianness_code == '<':\n",
    "    file_magic = bytearray([0x00,0xd0,0xba,0xda]) # Little Endian it."
   ]
  },
  {
   "source": [
    "## Decode First Packet\n",
    "### Grab Packet"
   ],
   "cell_type": "markdown",
   "metadata": {}
  },
  {
   "cell_type": "code",
   "execution_count": 13,
   "metadata": {},
   "outputs": [],
   "source": [
    "pcap = scp.rdpcap(file)"
   ]
  },
  {
   "cell_type": "code",
   "execution_count": 14,
   "metadata": {},
   "outputs": [],
   "source": [
    "packets = list(filter(lambda x: x.dport == port, pcap[protocol][packetgap:]))\n",
    "i = 0"
   ]
  },
  {
   "cell_type": "code",
   "execution_count": 15,
   "metadata": {},
   "outputs": [],
   "source": [
    "packet = packets[i]"
   ]
  },
  {
   "cell_type": "code",
   "execution_count": 16,
   "metadata": {},
   "outputs": [],
   "source": [
    "content = scp.raw(packet.getlayer(scp.Raw))[deadspace:]\n",
    "# printraw(content)\n",
    "packet_bytes = content"
   ]
  },
  {
   "source": [
    "### Decode Common Packet Header"
   ],
   "cell_type": "markdown",
   "metadata": {}
  },
  {
   "cell_type": "code",
   "execution_count": 17,
   "metadata": {},
   "outputs": [
    {
     "output_type": "stream",
     "name": "stdout",
     "text": [
      "00 cc 03 90\n0 972 b'\\x90'\n"
     ]
    }
   ],
   "source": [
    "CPH_SIZE = 4\n",
    "CPH = packet_bytes[:CPH_SIZE]\n",
    "printraw(CPH)\n",
    "cph_head, checksum = CPH[:-1], CPH[-1:]\n",
    "seq_num, vlp_len = struct.unpack(endianness_code+' B H', cph_head)\n",
    "print(seq_num, vlp_len, checksum)\n",
    "#! TODO: Perform checksum check. (not impl. in FSW atm)\n",
    "assert vlp_len == len(packet_bytes) - CPH_SIZE"
   ]
  },
  {
   "source": [
    "### Decode Variable Length Payload\n",
    "#### Decode First Payload"
   ],
   "cell_type": "markdown",
   "metadata": {}
  },
  {
   "source": [
    "# Extract the Variable Length Payload\n",
    "VLP = packet_bytes[CPH_SIZE:]\n",
    "\n",
    "# Parse VLP:\n",
    "\n",
    "# Strip off the magic:\n",
    "magic_bytes, VLP = VLP[:CPH_SIZE], VLP[CPH_SIZE:]\n",
    "magic = Magic.decode(magic_bytes, byte_order='<') # treat as a byte array, so let it use network\n",
    "magic"
   ],
   "cell_type": "code",
   "metadata": {},
   "execution_count": 18,
   "outputs": [
    {
     "output_type": "execute_result",
     "data": {
      "text/plain": [
       "<Magic.TELEMETRY: 3221229823>"
      ]
     },
     "metadata": {},
     "execution_count": 18
    }
   ]
  },
  {
   "cell_type": "code",
   "execution_count": 19,
   "metadata": {},
   "outputs": [
    {
     "output_type": "error",
     "ename": "SyntaxError",
     "evalue": "invalid syntax (<ipython-input-19-1472e03e6c7f>, line 14)",
     "traceback": [
      "\u001b[0;36m  File \u001b[0;32m\"<ipython-input-19-1472e03e6c7f>\"\u001b[0;36m, line \u001b[0;32m14\u001b[0m\n\u001b[0;31m    logger.\u001b[0m\n\u001b[0m           ^\u001b[0m\n\u001b[0;31mSyntaxError\u001b[0m\u001b[0;31m:\u001b[0m invalid syntax\n"
     ]
    }
   ],
   "source": [
    "if magic == Magic.TELEMETRY:\n",
    "    # Grab Telemetry Header:\n",
    "    module_id, channel_id, data_size, VLP = VLP[:1], VLP[1:2], VLP[2:4], VLP[4:]\n",
    "    print(module_id, channel_id, data_size)\n",
    "    # Unpack + Format Telemetry Header:\n",
    "    module_id = struct.unpack(endianness_code+'B', module_id)[0] << 8\n",
    "    channel_id = struct.unpack(endianness_code+'B', channel_id)[0]\n",
    "    #! TODO: Not impl. in fsw. Once is, perform check against expected size.\n",
    "    # ... Rn, replace w/expected size\n",
    "    data_size = struct.unpack(endianness_code+'H', data_size)[0]\n",
    "    try:\n",
    "        module = standards.modules[module_id]\n",
    "    except KeyError:\n",
    "        logger.\n",
    "    exp_data_size = standards.modules[module_id] \n",
    "\n",
    "    print(hex(module_id), hex(channel_id), data_size)\n",
    "    # data, timestamp, VLP = VLP[:data_size], VLP[data_size:data_size+4], VLP[data_size+4:]"
   ]
  },
  {
   "cell_type": "code",
   "execution_count": 82,
   "metadata": {},
   "outputs": [
    {
     "output_type": "execute_result",
     "data": {
      "text/plain": [
       "[((['XAcc'], 0), Channel[0]::XAcc: int16), ((['YAcc'], 1), Channel[1]::YAcc: int16), ((['ZAcc'], 2), Channel[2]::ZAcc: int16), ((['XAng'], 3), Channel[3]::XAng: uint16), ((['YAng'], 4), Channel[4]::YAng: uint16), ((['ZAng'], 5), Channel[5]::ZAng: uint16)]"
      ]
     },
     "metadata": {},
     "execution_count": 82
    }
   ],
   "source": [
    "standards.modules['Imu'].telemetry"
   ]
  },
  {
   "cell_type": "code",
   "execution_count": 81,
   "metadata": {},
   "outputs": [
    {
     "output_type": "execute_result",
     "data": {
      "text/plain": [
       "[<FswDataType.I16: 'int16'>,\n",
       " <FswDataType.I16: 'int16'>,\n",
       " <FswDataType.I16: 'int16'>,\n",
       " <FswDataType.U16: 'uint16'>,\n",
       " <FswDataType.U16: 'uint16'>,\n",
       " <FswDataType.U16: 'uint16'>]"
      ]
     },
     "metadata": {},
     "execution_count": 81
    }
   ],
   "source": [
    "[t.datatype for t in standards.modules['Imu'].telemetry.vals]"
   ]
  },
  {
   "cell_type": "code",
   "execution_count": null,
   "metadata": {},
   "outputs": [],
   "source": []
  }
 ]
}