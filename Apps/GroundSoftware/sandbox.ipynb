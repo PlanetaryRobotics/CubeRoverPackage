{
 "metadata": {
  "language_info": {
   "codemirror_mode": {
    "name": "ipython",
    "version": 3
   },
   "file_extension": ".py",
   "mimetype": "text/x-python",
   "name": "python",
   "nbconvert_exporter": "python",
   "pygments_lexer": "ipython3",
   "version": "3.8.5"
  },
  "orig_nbformat": 2,
  "kernelspec": {
   "name": "python385jvsc74a57bd08816a32dc6e032dd9374d27f75563e4313e5344332f9668033f6f3b340da094a",
   "display_name": "Python 3.8.5 64-bit ('py_irisbackendv3': pyenv)"
  },
  "metadata": {
   "interpreter": {
    "hash": "8816a32dc6e032dd9374d27f75563e4313e5344332f9668033f6f3b340da094a"
   }
  }
 },
 "nbformat": 4,
 "nbformat_minor": 2,
 "cells": [
  {
   "cell_type": "code",
   "execution_count": 1,
   "metadata": {},
   "outputs": [],
   "source": [
    "from IrisBackendv3.data_standards import DataStandards"
   ]
  },
  {
   "cell_type": "code",
   "execution_count": 2,
   "metadata": {},
   "outputs": [
    {
     "output_type": "stream",
     "name": "stderr",
     "text": [
      "2021-04-05 21:58:53 connors-mbp.wifi.local.cmu.edu IrisBackendv3.data_standards.data_standards[82347] INFO Module RateGroupDriver (ID = [512]) has no commands, telemetry, or events.\n",
      "2021-04-05 21:58:53 connors-mbp.wifi.local.cmu.edu IrisBackendv3.data_standards.data_standards[82347] WARNING Multiple <instance>s of <component> ActiveRateGroup found in FPrime Topology for module defined at 9. Since all instance names and base_ids are unique, new standards objects will be created for each instance .Instances were found at lines [29, 30, 31] in Topology file ../FlightSoftware/fprime/./CubeRover/Top/CubeRoverTopologyAppAi.xml\n",
      "2021-04-05 21:58:53 connors-mbp.wifi.local.cmu.edu IrisBackendv3.data_standards.data_standards[82347] INFO Module CubeRoverTime (ID = [1536]) has no commands, telemetry, or events.\n",
      "2021-04-05 21:58:53 connors-mbp.wifi.local.cmu.edu IrisBackendv3.data_standards.data_standards[82347] INFO Module TlmChan (ID = [1792]) has no commands, telemetry, or events.\n"
     ]
    },
    {
     "output_type": "error",
     "ename": "StandardsFormattingException",
     "evalue": "Formatting of standards file '../FlightSoftware/fprime/Svc/CmdDispatcher/CommandDispatcherComponentAi.xml' (or its expanded state) does not conform to expectations: [TypeError]: At sourceline 61, given type in attribute 'type' with value `string` is not a known `FSWDataType`..",
     "traceback": [
      "\u001b[0;31m---------------------------------------------------------------------------\u001b[0m",
      "\u001b[0;31mKeyError\u001b[0m                                  Traceback (most recent call last)",
      "\u001b[0;32m~/Documents/PKBACK/GitHub/CubeRoverPackage/Apps/GroundSoftware/IrisBackendv3/data_standards/data_standards.py\u001b[0m in \u001b[0;36mextract_type\u001b[0;34m(node, attr_name)\u001b[0m\n\u001b[1;32m    122\u001b[0m     \u001b[0;32mtry\u001b[0m\u001b[0;34m:\u001b[0m\u001b[0;34m\u001b[0m\u001b[0;34m\u001b[0m\u001b[0m\n\u001b[0;32m--> 123\u001b[0;31m         \u001b[0mdatatype\u001b[0m \u001b[0;34m=\u001b[0m \u001b[0mFswDataType\u001b[0m\u001b[0;34m[\u001b[0m\u001b[0mnode\u001b[0m\u001b[0;34m.\u001b[0m\u001b[0mattrib\u001b[0m\u001b[0;34m[\u001b[0m\u001b[0mattr_name\u001b[0m\u001b[0;34m]\u001b[0m\u001b[0;34m]\u001b[0m\u001b[0;34m\u001b[0m\u001b[0;34m\u001b[0m\u001b[0m\n\u001b[0m\u001b[1;32m    124\u001b[0m     \u001b[0;32mexcept\u001b[0m \u001b[0mKeyError\u001b[0m\u001b[0;34m:\u001b[0m\u001b[0;34m\u001b[0m\u001b[0;34m\u001b[0m\u001b[0m\n",
      "\u001b[0;32m~/.pyenv/versions/3.8.5/lib/python3.8/enum.py\u001b[0m in \u001b[0;36m__getitem__\u001b[0;34m(cls, name)\u001b[0m\n\u001b[1;32m    348\u001b[0m     \u001b[0;32mdef\u001b[0m \u001b[0m__getitem__\u001b[0m\u001b[0;34m(\u001b[0m\u001b[0mcls\u001b[0m\u001b[0;34m,\u001b[0m \u001b[0mname\u001b[0m\u001b[0;34m)\u001b[0m\u001b[0;34m:\u001b[0m\u001b[0;34m\u001b[0m\u001b[0;34m\u001b[0m\u001b[0m\n\u001b[0;32m--> 349\u001b[0;31m         \u001b[0;32mreturn\u001b[0m \u001b[0mcls\u001b[0m\u001b[0;34m.\u001b[0m\u001b[0m_member_map_\u001b[0m\u001b[0;34m[\u001b[0m\u001b[0mname\u001b[0m\u001b[0;34m]\u001b[0m\u001b[0;34m\u001b[0m\u001b[0;34m\u001b[0m\u001b[0m\n\u001b[0m\u001b[1;32m    350\u001b[0m \u001b[0;34m\u001b[0m\u001b[0m\n",
      "\u001b[0;31mKeyError\u001b[0m: 'string'",
      "\nDuring handling of the above exception, another exception occurred:\n",
      "\u001b[0;31mStandardsFormattingException\u001b[0m              Traceback (most recent call last)",
      "\u001b[0;32m<ipython-input-2-544dbf0cdace>\u001b[0m in \u001b[0;36m<module>\u001b[0;34m\u001b[0m\n\u001b[0;32m----> 1\u001b[0;31m \u001b[0mstandards\u001b[0m \u001b[0;34m=\u001b[0m \u001b[0mDataStandards\u001b[0m\u001b[0;34m.\u001b[0m\u001b[0mbuild_standards\u001b[0m\u001b[0;34m(\u001b[0m\u001b[0;34m)\u001b[0m\u001b[0;34m\u001b[0m\u001b[0;34m\u001b[0m\u001b[0m\n\u001b[0m",
      "\u001b[0;32m~/Documents/PKBACK/GitHub/CubeRoverPackage/Apps/GroundSoftware/IrisBackendv3/data_standards/data_standards.py\u001b[0m in \u001b[0;36mbuild_standards\u001b[0;34m(cls, search_dir, cache_dir, uri_topology)\u001b[0m\n\u001b[1;32m    611\u001b[0m                 )\n\u001b[1;32m    612\u001b[0m \u001b[0;34m\u001b[0m\u001b[0m\n\u001b[0;32m--> 613\u001b[0;31m             \u001b[0mmodule\u001b[0m \u001b[0;34m=\u001b[0m \u001b[0mbuild_module\u001b[0m\u001b[0;34m(\u001b[0m\u001b[0mfound_components\u001b[0m\u001b[0;34m[\u001b[0m\u001b[0;36m0\u001b[0m\u001b[0;34m]\u001b[0m\u001b[0;34m,\u001b[0m \u001b[0mtree_topology\u001b[0m\u001b[0;34m)\u001b[0m\u001b[0;34m\u001b[0m\u001b[0;34m\u001b[0m\u001b[0m\n\u001b[0m\u001b[1;32m    614\u001b[0m             \u001b[0mmodules\u001b[0m\u001b[0;34m[\u001b[0m\u001b[0mmodule\u001b[0m\u001b[0;34m.\u001b[0m\u001b[0mID\u001b[0m\u001b[0;34m,\u001b[0m \u001b[0mmodule\u001b[0m\u001b[0;34m.\u001b[0m\u001b[0mname\u001b[0m\u001b[0;34m]\u001b[0m \u001b[0;34m=\u001b[0m \u001b[0mmodule\u001b[0m\u001b[0;34m\u001b[0m\u001b[0;34m\u001b[0m\u001b[0m\n\u001b[1;32m    615\u001b[0m \u001b[0;34m\u001b[0m\u001b[0m\n",
      "\u001b[0;32m~/Documents/PKBACK/GitHub/CubeRoverPackage/Apps/GroundSoftware/IrisBackendv3/data_standards/data_standards.py\u001b[0m in \u001b[0;36mbuild_module\u001b[0;34m(node, tree_topology)\u001b[0m\n\u001b[1;32m    414\u001b[0m     \u001b[0;31m###\u001b[0m\u001b[0;34m\u001b[0m\u001b[0;34m\u001b[0m\u001b[0;34m\u001b[0m\u001b[0m\n\u001b[1;32m    415\u001b[0m     \u001b[0;31m#! TODO: Create one unique module for each (ID, instance_name) pair:\u001b[0m\u001b[0;34m\u001b[0m\u001b[0;34m\u001b[0m\u001b[0;34m\u001b[0m\u001b[0m\n\u001b[0;32m--> 416\u001b[0;31m     \u001b[0mcommands\u001b[0m \u001b[0;34m=\u001b[0m \u001b[0mextract_commands\u001b[0m\u001b[0;34m(\u001b[0m\u001b[0mnode\u001b[0m\u001b[0;34m,\u001b[0m \u001b[0minstance_names\u001b[0m\u001b[0;34m[\u001b[0m\u001b[0;36m0\u001b[0m\u001b[0;34m]\u001b[0m\u001b[0;34m)\u001b[0m\u001b[0;34m\u001b[0m\u001b[0;34m\u001b[0m\u001b[0m\n\u001b[0m\u001b[1;32m    417\u001b[0m     \u001b[0mtelemetry\u001b[0m \u001b[0;34m=\u001b[0m \u001b[0mextract_telemetry\u001b[0m\u001b[0;34m(\u001b[0m\u001b[0mnode\u001b[0m\u001b[0;34m)\u001b[0m\u001b[0;34m\u001b[0m\u001b[0;34m\u001b[0m\u001b[0m\n\u001b[1;32m    418\u001b[0m     \u001b[0mevents\u001b[0m \u001b[0;34m=\u001b[0m \u001b[0mextract_events\u001b[0m\u001b[0;34m(\u001b[0m\u001b[0mnode\u001b[0m\u001b[0;34m)\u001b[0m\u001b[0;34m\u001b[0m\u001b[0;34m\u001b[0m\u001b[0m\n",
      "\u001b[0;32m~/Documents/PKBACK/GitHub/CubeRoverPackage/Apps/GroundSoftware/IrisBackendv3/data_standards/data_standards.py\u001b[0m in \u001b[0;36mextract_commands\u001b[0;34m(node, module_name)\u001b[0m\n\u001b[1;32m    237\u001b[0m \u001b[0;34m\u001b[0m\u001b[0m\n\u001b[1;32m    238\u001b[0m         \u001b[0;31m# Grab Args:\u001b[0m\u001b[0;34m\u001b[0m\u001b[0;34m\u001b[0m\u001b[0;34m\u001b[0m\u001b[0m\n\u001b[0;32m--> 239\u001b[0;31m         \u001b[0mcommand\u001b[0m\u001b[0;34m.\u001b[0m\u001b[0margs\u001b[0m \u001b[0;34m=\u001b[0m \u001b[0mextract_arguments\u001b[0m\u001b[0;34m(\u001b[0m\u001b[0mcommand_src\u001b[0m\u001b[0;34m)\u001b[0m\u001b[0;34m\u001b[0m\u001b[0;34m\u001b[0m\u001b[0m\n\u001b[0m\u001b[1;32m    240\u001b[0m \u001b[0;34m\u001b[0m\u001b[0m\n\u001b[1;32m    241\u001b[0m         \u001b[0;31m# Store Command:\u001b[0m\u001b[0;34m\u001b[0m\u001b[0;34m\u001b[0m\u001b[0;34m\u001b[0m\u001b[0m\n",
      "\u001b[0;32m~/Documents/PKBACK/GitHub/CubeRoverPackage/Apps/GroundSoftware/IrisBackendv3/data_standards/data_standards.py\u001b[0m in \u001b[0;36mextract_arguments\u001b[0;34m(node)\u001b[0m\n\u001b[1;32m    198\u001b[0m         args.append(Argument(\n\u001b[1;32m    199\u001b[0m             \u001b[0mname\u001b[0m\u001b[0;34m=\u001b[0m\u001b[0mstandardize_field_name\u001b[0m\u001b[0;34m(\u001b[0m\u001b[0marg_src\u001b[0m\u001b[0;34m.\u001b[0m\u001b[0mattrib\u001b[0m\u001b[0;34m[\u001b[0m\u001b[0;34m'name'\u001b[0m\u001b[0;34m]\u001b[0m\u001b[0;34m)\u001b[0m\u001b[0;34m,\u001b[0m\u001b[0;34m\u001b[0m\u001b[0;34m\u001b[0m\u001b[0m\n\u001b[0;32m--> 200\u001b[0;31m             \u001b[0mdatatype\u001b[0m\u001b[0;34m=\u001b[0m\u001b[0mextract_type\u001b[0m\u001b[0;34m(\u001b[0m\u001b[0marg_src\u001b[0m\u001b[0;34m,\u001b[0m \u001b[0;34m'type'\u001b[0m\u001b[0;34m)\u001b[0m\u001b[0;34m,\u001b[0m\u001b[0;34m\u001b[0m\u001b[0;34m\u001b[0m\u001b[0m\n\u001b[0m\u001b[1;32m    201\u001b[0m             \u001b[0menum\u001b[0m\u001b[0;34m=\u001b[0m\u001b[0mextract_enum\u001b[0m\u001b[0;34m(\u001b[0m\u001b[0marg_src\u001b[0m\u001b[0;34m)\u001b[0m\u001b[0;34m,\u001b[0m\u001b[0;34m\u001b[0m\u001b[0;34m\u001b[0m\u001b[0m\n\u001b[1;32m    202\u001b[0m             \u001b[0mmetadata_json_str\u001b[0m\u001b[0;34m=\u001b[0m\u001b[0mGswMetadataTools\u001b[0m\u001b[0;34m.\u001b[0m\u001b[0mextract_from_xml\u001b[0m\u001b[0;34m(\u001b[0m\u001b[0marg_src\u001b[0m\u001b[0;34m)\u001b[0m\u001b[0;34m\u001b[0m\u001b[0;34m\u001b[0m\u001b[0m\n",
      "\u001b[0;32m~/Documents/PKBACK/GitHub/CubeRoverPackage/Apps/GroundSoftware/IrisBackendv3/data_standards/data_standards.py\u001b[0m in \u001b[0;36mextract_type\u001b[0;34m(node, attr_name)\u001b[0m\n\u001b[1;32m    125\u001b[0m         \u001b[0;31m# Note: both unknown enum name and unknown attribute -> KeyError\u001b[0m\u001b[0;34m\u001b[0m\u001b[0;34m\u001b[0m\u001b[0;34m\u001b[0m\u001b[0m\n\u001b[1;32m    126\u001b[0m         \u001b[0;32mtry\u001b[0m\u001b[0;34m:\u001b[0m\u001b[0;34m\u001b[0m\u001b[0;34m\u001b[0m\u001b[0m\n\u001b[0;32m--> 127\u001b[0;31m             raise StandardsFormattingException(\n\u001b[0m\u001b[1;32m    128\u001b[0m                 \u001b[0mnode\u001b[0m\u001b[0;34m.\u001b[0m\u001b[0mbase\u001b[0m\u001b[0;34m,\u001b[0m\u001b[0;34m\u001b[0m\u001b[0;34m\u001b[0m\u001b[0m\n\u001b[1;32m    129\u001b[0m                 \u001b[0;34mf\"[TypeError]: At sourceline {node.sourceline}, given type in attribute \"\u001b[0m\u001b[0;34m\u001b[0m\u001b[0;34m\u001b[0m\u001b[0m\n",
      "\u001b[0;31mStandardsFormattingException\u001b[0m: Formatting of standards file '../FlightSoftware/fprime/Svc/CmdDispatcher/CommandDispatcherComponentAi.xml' (or its expanded state) does not conform to expectations: [TypeError]: At sourceline 61, given type in attribute 'type' with value `string` is not a known `FSWDataType`.."
     ]
    }
   ],
   "source": [
    "standards = DataStandards.build_standards()"
   ]
  },
  {
   "cell_type": "code",
   "execution_count": null,
   "metadata": {},
   "outputs": [],
   "source": []
  }
 ]
}