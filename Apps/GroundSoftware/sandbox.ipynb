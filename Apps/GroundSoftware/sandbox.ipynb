{
 "metadata": {
  "language_info": {
   "codemirror_mode": {
    "name": "ipython",
    "version": 3
   },
   "file_extension": ".py",
   "mimetype": "text/x-python",
   "name": "python",
   "nbconvert_exporter": "python",
   "pygments_lexer": "ipython3",
   "version": "3.8.5"
  },
  "orig_nbformat": 2,
  "kernelspec": {
   "name": "python385jvsc74a57bd08816a32dc6e032dd9374d27f75563e4313e5344332f9668033f6f3b340da094a",
   "display_name": "Python 3.8.5 64-bit ('py_irisbackendv3': pyenv)"
  },
  "metadata": {
   "interpreter": {
    "hash": "8816a32dc6e032dd9374d27f75563e4313e5344332f9668033f6f3b340da094a"
   }
  }
 },
 "nbformat": 4,
 "nbformat_minor": 2,
 "cells": [
  {
   "cell_type": "code",
   "execution_count": 62,
   "metadata": {},
   "outputs": [],
   "source": [
    "\n",
    "import scapy.all as scp\n",
    "import struct\n",
    "import numpy as np\n",
    "import matplotlib.pyplot as plt\n",
    "\n",
    "from IrisBackendv3.data_standards import DataStandards\n",
    "from IrisBackendv3.data_standards.logging import logger as DsLogger\n",
    "\n",
    "from IrisBackendv3.codec.magic import Magic\n",
    "\n",
    "from IrisBackendv3.utils.basic import print_bytearray_hex as printraw"
   ]
  },
  {
   "cell_type": "code",
   "execution_count": 63,
   "metadata": {},
   "outputs": [],
   "source": [
    "DsLogger.setLevel('CRITICAL')\n",
    "standards = DataStandards.build_standards()"
   ]
  },
  {
   "source": [
    "## Settings"
   ],
   "cell_type": "markdown",
   "metadata": {}
  },
  {
   "cell_type": "code",
   "execution_count": 64,
   "metadata": {},
   "outputs": [],
   "source": [
    "# Data Transport:\n",
    "file = './test-data/Iris_FSWv1.0.0_210409_Telemetry.pcapng' # PCAP logs\n",
    "protocol = scp.UDP # Protocol FSW is using to send data\n",
    "port = 8080 # Port on the spacecraft FSW is sending data to\n",
    "\n",
    "# Data Formatting Settings:\n",
    "packetgap = 0 # number of packets to ignore at beginning of pcap\n",
    "deadspace = 0 # number of bytes of deadspace at the beginning of the\n",
    "endianness_code = \"<\" # < = little, > = big, ! = network\n",
    "\n",
    "# Image Formatting Settings:\n",
    "image_settings = {\n",
    "    \"width\": 2592,\n",
    "    \"height\": 1944\n",
    "}\n",
    "\n",
    "# Magics:\n",
    "file_magic = bytearray([0xda,0xba,0xd0,0x00])\n",
    "if endianness_code == '<':\n",
    "    file_magic = bytearray([0x00,0xd0,0xba,0xda]) # Little Endian it."
   ]
  },
  {
   "source": [
    "## Decode First Packet\n",
    "### Grab Packet"
   ],
   "cell_type": "markdown",
   "metadata": {}
  },
  {
   "cell_type": "code",
   "execution_count": 65,
   "metadata": {},
   "outputs": [],
   "source": [
    "pcap = scp.rdpcap(file)"
   ]
  },
  {
   "cell_type": "code",
   "execution_count": 66,
   "metadata": {},
   "outputs": [],
   "source": [
    "packets = list(filter(lambda x: x.dport == port, pcap[protocol][packetgap:]))\n",
    "i = 0"
   ]
  },
  {
   "cell_type": "code",
   "execution_count": 67,
   "metadata": {},
   "outputs": [],
   "source": [
    "packet = packets[i]"
   ]
  },
  {
   "cell_type": "code",
   "execution_count": 68,
   "metadata": {},
   "outputs": [],
   "source": [
    "content = scp.raw(packet.getlayer(scp.Raw))[deadspace:]\n",
    "# printraw(content)\n",
    "packet_bytes = content"
   ]
  },
  {
   "source": [
    "### Decode Common Packet Header"
   ],
   "cell_type": "markdown",
   "metadata": {}
  },
  {
   "cell_type": "code",
   "execution_count": 69,
   "metadata": {},
   "outputs": [
    {
     "output_type": "stream",
     "name": "stdout",
     "text": [
      "00 cc 03 08 80\n0 972 b'\\x08\\x80'\n"
     ]
    }
   ],
   "source": [
    "CPH_SIZE = 4\n",
    "CPH = packet_bytes[:CPH_SIZE]\n",
    "printraw(CPH)\n",
    "cph_head, checksum = CPH[:-1], CPH[-1:]\n",
    "seq_num, vlp_len = struct.unpack(endianness_code+' B H', cph_head)\n",
    "print(seq_num, vlp_len, checksum)\n",
    "#! TODO: Perform checksum check. (not impl. in FSW atm)\n",
    "assert vlp_len == len(packet_bytes) - CPH_SIZE"
   ]
  },
  {
   "source": [
    "### Decode Variable Length Payload\n",
    "#### Decode First Payload"
   ],
   "cell_type": "markdown",
   "metadata": {}
  },
  {
   "source": [
    "# Extract the Variable Length Payload\n",
    "VLP = packet_bytes[CPH_SIZE:]\n",
    "\n",
    "# Parse VLP:\n",
    "\n",
    "# Strip off the magic:\n",
    "magic_bytes, VLP = VLP[:CPH_SIZE], VLP[CPH_SIZE:]\n",
    "magic = Magic.decode(magic_bytes, byte_order='<') # treat as a byte array, so let it use network\n",
    "magic"
   ],
   "cell_type": "code",
   "metadata": {},
   "execution_count": 1,
   "outputs": [
    {
     "output_type": "error",
     "ename": "NameError",
     "evalue": "name 'packet_bytes' is not defined",
     "traceback": [
      "\u001b[0;31m---------------------------------------------------------------------------\u001b[0m",
      "\u001b[0;31mNameError\u001b[0m                                 Traceback (most recent call last)",
      "\u001b[0;32m<ipython-input-1-6329dc55813e>\u001b[0m in \u001b[0;36m<module>\u001b[0;34m\u001b[0m\n\u001b[1;32m      1\u001b[0m \u001b[0;31m# Extract the Variable Length Payload\u001b[0m\u001b[0;34m\u001b[0m\u001b[0;34m\u001b[0m\u001b[0;34m\u001b[0m\u001b[0m\n\u001b[0;32m----> 2\u001b[0;31m \u001b[0mVLP\u001b[0m \u001b[0;34m=\u001b[0m \u001b[0mpacket_bytes\u001b[0m\u001b[0;34m[\u001b[0m\u001b[0mCPH_SIZE\u001b[0m\u001b[0;34m:\u001b[0m\u001b[0;34m]\u001b[0m\u001b[0;34m\u001b[0m\u001b[0;34m\u001b[0m\u001b[0m\n\u001b[0m\u001b[1;32m      3\u001b[0m \u001b[0;34m\u001b[0m\u001b[0m\n\u001b[1;32m      4\u001b[0m \u001b[0;31m# Parse VLP:\u001b[0m\u001b[0;34m\u001b[0m\u001b[0;34m\u001b[0m\u001b[0;34m\u001b[0m\u001b[0m\n\u001b[1;32m      5\u001b[0m \u001b[0;34m\u001b[0m\u001b[0m\n",
      "\u001b[0;31mNameError\u001b[0m: name 'packet_bytes' is not defined"
     ]
    }
   ]
  },
  {
   "cell_type": "code",
   "execution_count": 71,
   "metadata": {},
   "outputs": [
    {
     "output_type": "stream",
     "name": "stdout",
     "text": [
      "b'\\x0f' b'\\x00' b'\\x00\\x00'\n0xf00 0x0 0\n"
     ]
    }
   ],
   "source": [
    "if magic == Magic.TELEMETRY:\n",
    "    # Grab Telemetry Header:\n",
    "    module_id, channel_id, data_size, VLP = VLP[:1], VLP[1:2], VLP[2:4], VLP[4:]\n",
    "    print(module_id, channel_id, data_size)\n",
    "    # Unpack + Format Telemetry Header:\n",
    "    module_id = struct.unpack(endianness_code+'B', module_id)[0] << 8\n",
    "    channel_id = struct.unpack(endianness_code+'B', channel_id)[0]\n",
    "    #! TODO: Not impl. in fsw. Once is, perform check against expected size.\n",
    "    # ... Rn, replace w/expected size\n",
    "    data_size = struct.unpack(endianness_code+'H', data_size)[0]\n",
    "    try:\n",
    "        module = standards.modules[module_id]\n",
    "    except KeyError:\n",
    "        logger.\n",
    "    exp_data_size = standards.modules[module_id] \n",
    "\n",
    "    print(hex(module_id), hex(channel_id), data_size)\n",
    "    # data, timestamp, VLP = VLP[:data_size], VLP[data_size:data_size+4], VLP[data_size+4:]"
   ]
  },
  {
   "cell_type": "code",
   "execution_count": 82,
   "metadata": {},
   "outputs": [
    {
     "output_type": "execute_result",
     "data": {
      "text/plain": [
       "[((['XAcc'], 0), Channel[0]::XAcc: int16), ((['YAcc'], 1), Channel[1]::YAcc: int16), ((['ZAcc'], 2), Channel[2]::ZAcc: int16), ((['XAng'], 3), Channel[3]::XAng: uint16), ((['YAng'], 4), Channel[4]::YAng: uint16), ((['ZAng'], 5), Channel[5]::ZAng: uint16)]"
      ]
     },
     "metadata": {},
     "execution_count": 82
    }
   ],
   "source": [
    "standards.modules['Imu'].telemetry"
   ]
  },
  {
   "cell_type": "code",
   "execution_count": 81,
   "metadata": {},
   "outputs": [
    {
     "output_type": "execute_result",
     "data": {
      "text/plain": [
       "[<FswDataType.I16: 'int16'>,\n",
       " <FswDataType.I16: 'int16'>,\n",
       " <FswDataType.I16: 'int16'>,\n",
       " <FswDataType.U16: 'uint16'>,\n",
       " <FswDataType.U16: 'uint16'>,\n",
       " <FswDataType.U16: 'uint16'>]"
      ]
     },
     "metadata": {},
     "execution_count": 81
    }
   ],
   "source": [
    "[t.datatype for t in standards.modules['Imu'].telemetry.vals]"
   ]
  },
  {
   "cell_type": "code",
   "execution_count": null,
   "metadata": {},
   "outputs": [],
   "source": []
  }
 ]
}