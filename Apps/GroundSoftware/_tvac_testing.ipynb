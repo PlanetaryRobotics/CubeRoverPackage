{
 "metadata": {
  "language_info": {
   "codemirror_mode": {
    "name": "ipython",
    "version": 3
   },
   "file_extension": ".py",
   "mimetype": "text/x-python",
   "name": "python",
   "nbconvert_exporter": "python",
   "pygments_lexer": "ipython3",
   "version": "3.8.5"
  },
  "orig_nbformat": 2,
  "kernelspec": {
   "name": "python385jvsc74a57bd08816a32dc6e032dd9374d27f75563e4313e5344332f9668033f6f3b340da094a",
   "display_name": "Python 3.8.5 64-bit ('py_irisbackendv3': pyenv)"
  },
  "metadata": {
   "interpreter": {
    "hash": "31f2aee4e71d21fbe5cf8b01ff0e069b9275f58929596ceb00d14d90e3e16cd6"
   }
  }
 },
 "nbformat": 4,
 "nbformat_minor": 2,
 "cells": [
  {
   "source": [
    "# Iris Lunar Rover — TVAC Testing Backend\n",
    "\n",
    "Note: **Press the `green refresh button` then the `double play button` to reload and run.**\n",
    "\n",
    "## Intro\n",
    "\n",
    "This interface will allow you to issue commands and monitor the status of the rover. Functions you call here talk to the GSW backend and perform various analysis or debugging. Here's the set of tools available to you (note: they are also demoed below):\n",
    "\n",
    "- `connect_serial(device_name)`: Initiate the connection with the rover over the RS-422 serial adapter.\n",
    "\n",
    "- `send_command(command_name, **args)`: Send a command to the rover. `**args` means you enter the argument names and values in a list. For example: `send_command('WatchDogInterface_SetVSetpoint', setpoint=1000)`. Make sure to get the spelling of the command name *and* arg names correct. Note: some commands don't take arguments.\n",
    "\n",
    "- `list_commands()`: List all commands you can send to the rover.\n",
    "\n",
    "- `list_channels()`: List all telemetry channels which are being logged, both real and generated.\n",
    "\n",
    "- `stream_data()`: Actively monitor and log data coming in from the rover. This should be your primary state.\n",
    "\n",
    "- `plot_stream(channel_name)` Display a plot of all the data which has been logged for the channel with the given name.\n",
    "\n",
    "<br/>\n",
    "\n",
    "*Note:* If you want to prevent one of these functions from executing, you can comment it out by putting a `#` in front of it or pressing `ctrl + /` to toggle.\n",
    "\n",
    "**Note:** You'll want to run `pyenv exec python tvac_telem.py` from this directory in a separate terminal window in order to collect telemetry during the test.\n",
    "\n",
    "<br />\n",
    "\n",
    "### Convenience functions:\n",
    "The following functions exist to convert units. This is particularly for changing the heater settings. The heater takes it setpoint as an `adc` target and it returns its current state as an `adc` value as well.\n",
    "- `degC_to_adc(temp)`: Converts a temperature in °Celcius to an `adc` target.\n",
    "- `degK_to_adc(temp)`: Converts a temperature in °Kelvin to an `adc` target.\n",
    "- `adc_to_degC(adc)`: Converts an `adc` reading into a temperature in °Celcius.\n",
    "- `adc_to_degK(adc)`: Converts an `adc` reading into a temperature in °Kelvin.\n",
    "\n",
    "**NOTE:** These conversions are only for °C and °K **not** C° or K°, which is to say, they're for absolute temperatures but not temperature differences - i.e. *dont* use these functions to set a window width for the heater.\n"
   ],
   "cell_type": "markdown",
   "metadata": {}
  },
  {
   "source": [
    "## Setup:"
   ],
   "cell_type": "markdown",
   "metadata": {}
  },
  {
   "cell_type": "code",
   "execution_count": 1,
   "metadata": {},
   "outputs": [
    {
     "output_type": "stream",
     "name": "stdout",
     "text": [
      "\u001b[31mFailed to connect to serial device. Is the device name right? Check the connection? Original error: [Errno 2] could not open port /dev/ttyUSB0: [Errno 2] No such file or directory: '/dev/ttyUSB0'\u001b[0m\n"
     ]
    }
   ],
   "source": [
    "from tvac_tools import *\n",
    "connect_serial(device = '/dev/ttyUSB0')"
   ]
  },
  {
   "cell_type": "code",
   "execution_count": 2,
   "metadata": {},
   "outputs": [],
   "source": [
    "# settings['SAVE_FILE_PREFIX'] = 'iris_log' # this the prefix on all log files. make it something unique.\n",
    "load_cache()"
   ]
  },
  {
   "source": [
    "## Examples:"
   ],
   "cell_type": "markdown",
   "metadata": {}
  },
  {
   "source": [
    "list_commands()\n",
    "list_channels()"
   ],
   "cell_type": "code",
   "metadata": {},
   "execution_count": 3,
   "outputs": [
    {
     "output_type": "stream",
     "name": "stdout",
     "text": [
      "\u001b[1m\u001b[40m\u001b[34m\n\t0.\t'WatchDogInterface_ResetSpecific', args: [reset_value: enum/*int32*/]\u001b[0m\n\u001b[36m\n\t\t\tAvailable values for `reset_value`:\u001b[0m\n\u001b[35m\n\t\t\t\t'NO_RESET' or 0 or 0x0\u001b[0m\n\u001b[35m\n\t\t\t\t'RESET_HERCULES' or 1 or 0x1\u001b[0m\n\u001b[35m\n\t\t\t\t'HERCULES_POWER_ON' or 2 or 0x2\u001b[0m\n\u001b[35m\n\t\t\t\t'HERCULES_POWER_OFF' or 3 or 0x3\u001b[0m\n\u001b[35m\n\t\t\t\t'RESET_RADIO' or 4 or 0x4\u001b[0m\n\u001b[35m\n\t\t\t\t'RADIO_POWER_ON' or 5 or 0x5\u001b[0m\n\u001b[35m\n\t\t\t\t'RADIO_POWER_OFF' or 6 or 0x6\u001b[0m\n\u001b[35m\n\t\t\t\t'RESET_FPGA' or 7 or 0x7\u001b[0m\n\u001b[35m\n\t\t\t\t'FPGA_POWER_ON' or 8 or 0x8\u001b[0m\n\u001b[35m\n\t\t\t\t'FPGA_POWER_OFF' or 9 or 0x9\u001b[0m\n\u001b[35m\n\t\t\t\t'RESET_MOTOR_1' or 10 or 0xa\u001b[0m\n\u001b[35m\n\t\t\t\t'RESET_MOTOR_2' or 11 or 0xb\u001b[0m\n\u001b[35m\n\t\t\t\t'RESET_MOTOR_3' or 12 or 0xc\u001b[0m\n\u001b[35m\n\t\t\t\t'RESET_MOTOR_4' or 13 or 0xd\u001b[0m\n\u001b[35m\n\t\t\t\t'RESET_ALL_MOTORS' or 14 or 0xe\u001b[0m\n\u001b[35m\n\t\t\t\t'ALL_MOTORS_ON' or 15 or 0xf\u001b[0m\n\u001b[35m\n\t\t\t\t'ALL_MOTORS_OFF' or 16 or 0x10\u001b[0m\n\u001b[35m\n\t\t\t\t'RESET_EN_3_3' or 17 or 0x11\u001b[0m\n\u001b[35m\n\t\t\t\t'EN_3_3_POWER_ON' or 18 or 0x12\u001b[0m\n\u001b[35m\n\t\t\t\t'EN_3_3_POWER_OFF' or 19 or 0x13\u001b[0m\n\u001b[35m\n\t\t\t\t'RESET_24_EN' or 20 or 0x14\u001b[0m\n\u001b[35m\n\t\t\t\t'EN_24_ON' or 21 or 0x15\u001b[0m\n\u001b[35m\n\t\t\t\t'EN_24_OFF' or 22 or 0x16\u001b[0m\n\u001b[35m\n\t\t\t\t'HDRM_OFF' or 24 or 0x18\u001b[0m\n\u001b[35m\n\t\t\t\t'FPGA_CAM_0' or 25 or 0x19\u001b[0m\n\u001b[35m\n\t\t\t\t'FPGA_CAM_1' or 26 or 0x1a\u001b[0m\n\u001b[35m\n\t\t\t\t'BATTERY_START_CHARGE' or 27 or 0x1b\u001b[0m\n\u001b[35m\n\t\t\t\t'BATTERY_STOP_CHARGE' or 28 or 0x1c\u001b[0m\n\u001b[35m\n\t\t\t\t'ENABLE_RS_422_UART' or 29 or 0x1d\u001b[0m\n\u001b[35m\n\t\t\t\t'DISABLE_RS_422_UART' or 30 or 0x1e\u001b[0m\n\u001b[35m\n\t\t\t\t'ENABLE_HEATER_CONTROL' or 31 or 0x1f\u001b[0m\n\u001b[35m\n\t\t\t\t'DISABLE_HEATER_CONTROL' or 32 or 0x20\u001b[0m\n\u001b[1m\u001b[40m\u001b[34m\n\t1.\t'WatchDogInterface_PrepareForDeployment', args: [confirm: enum/*int32*/]\u001b[0m\n\u001b[36m\n\t\t\tAvailable values for `confirm`:\u001b[0m\n\u001b[35m\n\t\t\t\t'YES' or 96 or 0x60\u001b[0m\n\u001b[1m\u001b[40m\u001b[34m\n\t2.\t'WatchDogInterface_DisengageFromLander', args: [confirm: enum/*int32*/]\u001b[0m\n\u001b[36m\n\t\t\tAvailable values for `confirm`:\u001b[0m\n\u001b[35m\n\t\t\t\t'YES' or 96 or 0x60\u001b[0m\n\u001b[1m\u001b[40m\u001b[34m\n\t3.\t'WatchDogInterface_SwitchConnectionMode'\u001b[0m\n\u001b[1m\u001b[40m\u001b[34m\n\t4.\t'WatchDogInterface_EngageFromLander'\u001b[0m\n\u001b[1m\u001b[40m\u001b[34m\n\t5.\t'WatchDogInterface_SetKpSpecific', args: [value: uint16]\u001b[0m\n\u001b[1m\u001b[40m\u001b[34m\n\t6.\t'WatchDogInterface_SetHeaterDutyCycleMax'\u001b[0m\n\u001b[1m\u001b[40m\u001b[34m\n\t7.\t'WatchDogInterface_SetHeaterDutyCyclePeriod', args: [period: uint16]\u001b[0m\n\u001b[1m\u001b[40m\u001b[34m\n\t8.\t'WatchDogInterface_SetHeaterWindow', args: [adc_half_width: uint16]\u001b[0m\n\u001b[1m\u001b[40m\u001b[34m\n\t9.\t'WatchDogInterface_SetHeaterSetpoint', args: [adc_setpoint: uint16]\u001b[0m\n\u001b[1m\u001b[40m\u001b[34m\n\t10.\t'WatchDogInterface_SwitchToSleepMode', args: [confirm: enum/*int32*/]\u001b[0m\n\u001b[36m\n\t\t\tAvailable values for `confirm`:\u001b[0m\n\u001b[35m\n\t\t\t\t'YES' or 119 or 0x77\u001b[0m\n\u001b[1m\u001b[40m\u001b[34m\n\t11.\t'WatchDogInterface_SwitchToKeepAliveMode', args: [confirm: enum/*int32*/]\u001b[0m\n\u001b[36m\n\t\t\tAvailable values for `confirm`:\u001b[0m\n\u001b[35m\n\t\t\t\t'YES' or 119 or 0x77\u001b[0m\n\u001b[1m\u001b[40m\u001b[34m\n\t12.\t'WatchDogInterface_SwitchToServiceMode', args: [confirm: enum/*int32*/]\u001b[0m\n\u001b[36m\n\t\t\tAvailable values for `confirm`:\u001b[0m\n\u001b[35m\n\t\t\t\t'YES' or 119 or 0x77\u001b[0m\n\u001b[1m\u001b[40m\u001b[31m\n\t0.\tChannel 'AdcTempRaw': uint16\u001b[0m\n\u001b[1m\u001b[40m\u001b[31m\n\t1.\tChannel 'AdcTempKelvin': double\u001b[0m\n\u001b[1m\u001b[40m\u001b[31m\n\t2.\tChannel 'ChargeRaw': uint16\u001b[0m\n\u001b[1m\u001b[40m\u001b[31m\n\t3.\tChannel 'ChargeMah': double\u001b[0m\n\u001b[1m\u001b[40m\u001b[31m\n\t4.\tChannel 'VoltageRaw': uint16\u001b[0m\n\u001b[1m\u001b[40m\u001b[31m\n\t5.\tChannel 'Voltage': double\u001b[0m\n\u001b[1m\u001b[40m\u001b[31m\n\t6.\tChannel 'CurrentRaw': uint16\u001b[0m\n\u001b[1m\u001b[40m\u001b[31m\n\t7.\tChannel 'CurrentAmps': double\u001b[0m\n\u001b[1m\u001b[40m\u001b[31m\n\t8.\tChannel 'FuelTempRaw': uint16\u001b[0m\n\u001b[1m\u001b[40m\u001b[31m\n\t9.\tChannel 'FuelTempKelvin': double\u001b[0m\n\u001b[1m\u001b[40m\u001b[31m\n\t10.\tChannel 'KpHeater': uint16\u001b[0m\n\u001b[1m\u001b[40m\u001b[31m\n\t11.\tChannel 'HeaterSetpoint': uint16\u001b[0m\n\u001b[1m\u001b[40m\u001b[31m\n\t12.\tChannel 'HeaterSetpointKelvin': uint16\u001b[0m\n\u001b[1m\u001b[40m\u001b[31m\n\t13.\tChannel 'HeaterWindow': uint16\u001b[0m\n\u001b[1m\u001b[40m\u001b[31m\n\t14.\tChannel 'HeaterWindowKelvin': uint16\u001b[0m\n\u001b[1m\u001b[40m\u001b[31m\n\t15.\tChannel 'HeaterPwmLimit': uint16\u001b[0m\n\u001b[1m\u001b[40m\u001b[31m\n\t16.\tChannel 'WatchdogMode': enum/*int32*/\u001b[0m\n\u001b[1m\u001b[40m\u001b[31m\n\t17.\tChannel 'HeaterStatus': uint8\u001b[0m\n\u001b[1m\u001b[40m\u001b[31m\n\t18.\tChannel 'HeatingControlEnabled': uint8\u001b[0m\n\u001b[1m\u001b[40m\u001b[31m\n\t19.\tChannel 'HeaterPwmDutyCycle': uint16\u001b[0m\n"
     ]
    }
   ]
  },
  {
   "cell_type": "code",
   "execution_count": 4,
   "metadata": {},
   "outputs": [
    {
     "output_type": "stream",
     "name": "stdout",
     "text": [
      "\u001b[31mCan't send data, serial connection not started. Try `connect_serial()`.\u001b[0m\n"
     ]
    },
    {
     "output_type": "execute_result",
     "data": {
      "text/plain": [
       "'Data: 45 00 00 27 00 01 00 00 40 11 5e 27 de ad be ef 7f 00 00 01 00 35 1f 90 00 13 71 8c 00 07 00 00 ee ff 00 c0 eb 10 77.'"
      ]
     },
     "metadata": {},
     "execution_count": 4
    }
   ],
   "source": [
    "send_command('WatchDogInterface_SwitchToKeepAliveMode', confirm='YES')"
   ]
  },
  {
   "source": [
    "## Initial Setup Commands to Send:\n"
   ],
   "cell_type": "markdown",
   "metadata": {}
  },
  {
   "cell_type": "code",
   "execution_count": 5,
   "metadata": {},
   "outputs": [
    {
     "output_type": "stream",
     "name": "stdout",
     "text": [
      "\u001b[31mCan't send data, serial connection not started. Try `connect_serial()`.\u001b[0m\n"
     ]
    },
    {
     "output_type": "execute_result",
     "data": {
      "text/plain": [
       "'Data: 45 00 00 27 00 01 00 00 40 11 5e 27 de ad be ef 7f 00 00 01 00 35 1f 90 00 13 71 8c 00 07 00 00 ee ff 00 c0 eb 10 77.'"
      ]
     },
     "metadata": {},
     "execution_count": 5
    }
   ],
   "source": [
    "send_command('WatchDogInterface_SwitchToKeepAliveMode', confirm='YES') # should already be in KeepAlive, just double checking"
   ]
  },
  {
   "cell_type": "code",
   "execution_count": 6,
   "metadata": {},
   "outputs": [
    {
     "output_type": "stream",
     "name": "stdout",
     "text": [
      "\u001b[31mCan't send data, serial connection not started. Try `connect_serial()`.\u001b[0m\n"
     ]
    },
    {
     "output_type": "execute_result",
     "data": {
      "text/plain": [
       "'Data: 45 00 00 27 00 01 00 00 40 11 5e 27 de ad be ef 7f 00 00 01 00 35 1f 90 00 13 b4 8d 00 07 00 00 ee ff 00 c0 00 10 1f.'"
      ]
     },
     "metadata": {},
     "execution_count": 6
    }
   ],
   "source": [
    "send_command('WatchDogInterface_ResetSpecific', reset_value='ENABLE_HEATER_CONTROL') # despite the name 'reset', this allows the heater to turn on"
   ]
  },
  {
   "cell_type": "code",
   "execution_count": 7,
   "metadata": {},
   "outputs": [
    {
     "output_type": "stream",
     "name": "stdout",
     "text": [
      "\u001b[31mCan't send data, serial connection not started. Try `connect_serial()`.\u001b[0m\n"
     ]
    },
    {
     "output_type": "execute_result",
     "data": {
      "text/plain": [
       "'Data: 45 00 00 28 00 01 00 00 40 11 5e 26 de ad be ef 7f 00 00 01 00 35 1f 90 00 14 88 85 00 08 00 00 ee ff 00 c0 da 10 71 04.'"
      ]
     },
     "metadata": {},
     "execution_count": 7
    }
   ],
   "source": [
    "send_command('WatchDogInterface_SetHeaterSetpoint', adc_setpoint=degC_to_adc(40))"
   ]
  },
  {
   "cell_type": "code",
   "execution_count": 8,
   "metadata": {},
   "outputs": [
    {
     "output_type": "stream",
     "name": "stdout",
     "text": [
      "\u001b[31mCan't send data, serial connection not started. Try `connect_serial()`.\u001b[0m\n"
     ]
    },
    {
     "output_type": "execute_result",
     "data": {
      "text/plain": [
       "'Data: 45 00 00 28 00 01 00 00 40 11 5e 26 de ad be ef 7f 00 00 01 00 35 1f 90 00 14 39 cb 00 08 00 00 ee ff 00 c0 aa 10 ef be.'"
      ]
     },
     "metadata": {},
     "execution_count": 8
    }
   ],
   "source": [
    "send_command('WatchDogInterface_SetKpSpecific', value=0xBEEF) # default Kp is waay too small. change to something big to make it actually repsond"
   ]
  },
  {
   "cell_type": "code",
   "execution_count": 10,
   "metadata": {},
   "outputs": [
    {
     "output_type": "error",
     "ename": "SyntaxError",
     "evalue": "invalid syntax (<ipython-input-10-5e04e51d9746>, line 2)",
     "traceback": [
      "\u001b[0;36m  File \u001b[0;32m\"<ipython-input-10-5e04e51d9746>\"\u001b[0;36m, line \u001b[0;32m2\u001b[0m\n\u001b[0;31m    import matltelemetry_streams[]\u001b[0m\n\u001b[0m                                ^\u001b[0m\n\u001b[0;31mSyntaxError\u001b[0m\u001b[0;31m:\u001b[0m invalid syntax\n"
     ]
    }
   ],
   "source": [
    "load_cache()\n",
    "plot_stream('AdcTempKelvin')"
   ]
  },
  {
   "cell_type": "code",
   "execution_count": 9,
   "metadata": {},
   "outputs": [
    {
     "output_type": "stream",
     "name": "stdout",
     "text": [
      "\u001b[31mCan't read data, serial connection not started. Try `connect_serial()`.\u001b[0m\n"
     ]
    }
   ],
   "source": [
    "stream_data()"
   ]
  }
 ]
}